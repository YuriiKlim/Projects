{
 "cells": [
  {
   "cell_type": "code",
   "execution_count": 1,
   "id": "f59ffa2b",
   "metadata": {
    "_cell_guid": "b1076dfc-b9ad-4769-8c92-a6c4dae69d19",
    "_uuid": "8f2839f25d086af736a60e9eeb907d3b93b6e0e5",
    "execution": {
     "iopub.execute_input": "2024-08-09T13:46:00.041403Z",
     "iopub.status.busy": "2024-08-09T13:46:00.040927Z",
     "iopub.status.idle": "2024-08-09T13:46:04.482477Z",
     "shell.execute_reply": "2024-08-09T13:46:04.480583Z"
    },
    "papermill": {
     "duration": 4.456055,
     "end_time": "2024-08-09T13:46:04.485772",
     "exception": false,
     "start_time": "2024-08-09T13:46:00.029717",
     "status": "completed"
    },
    "tags": []
   },
   "outputs": [
    {
     "name": "stdout",
     "output_type": "stream",
     "text": [
      "/kaggle/input/beerreviews/beer_reviews.csv\n"
     ]
    }
   ],
   "source": [
    "# This Python 3 environment comes with many helpful analytics libraries installed\n",
    "# It is defined by the kaggle/python Docker image: https://github.com/kaggle/docker-python\n",
    "# For example, here's several helpful packages to load\n",
    "\n",
    "import pandas as pd\n",
    "from sklearn.compose import ColumnTransformer\n",
    "from sklearn.pipeline import Pipeline\n",
    "from sklearn.impute import SimpleImputer\n",
    "from sklearn.preprocessing import OneHotEncoder\n",
    "from sklearn.model_selection import train_test_split\n",
    "import numpy as np\n",
    "import matplotlib.pyplot as plt\n",
    "from sklearn import model_selection, metrics\n",
    "import lightgbm as lgb\n",
    "from sklearn.preprocessing import OrdinalEncoder\n",
    "import joblib\n",
    "import optuna\n",
    "from sklearn.linear_model import LinearRegression\n",
    "from sklearn.tree import DecisionTreeRegressor\n",
    "\n",
    "# Input data files are available in the read-only \"../input/\" directory\n",
    "# For example, running this (by clicking run or pressing Shift+Enter) will list all files under the input directory\n",
    "\n",
    "import os\n",
    "for dirname, _, filenames in os.walk('/kaggle/input'):\n",
    "    for filename in filenames:\n",
    "        print(os.path.join(dirname, filename))\n",
    "\n",
    "# You can write up to 20GB to the current directory (/kaggle/working/) that gets preserved as output when you create a version using \"Save & Run All\" \n",
    "# You can also write temporary files to /kaggle/temp/, but they won't be saved outside of the current session"
   ]
  },
  {
   "cell_type": "code",
   "execution_count": 2,
   "id": "d35eace9",
   "metadata": {
    "execution": {
     "iopub.execute_input": "2024-08-09T13:46:04.511975Z",
     "iopub.status.busy": "2024-08-09T13:46:04.510956Z",
     "iopub.status.idle": "2024-08-09T13:46:10.526812Z",
     "shell.execute_reply": "2024-08-09T13:46:10.525338Z"
    },
    "papermill": {
     "duration": 6.031334,
     "end_time": "2024-08-09T13:46:10.529803",
     "exception": false,
     "start_time": "2024-08-09T13:46:04.498469",
     "status": "completed"
    },
    "tags": []
   },
   "outputs": [
    {
     "data": {
      "text/html": [
       "<div>\n",
       "<style scoped>\n",
       "    .dataframe tbody tr th:only-of-type {\n",
       "        vertical-align: middle;\n",
       "    }\n",
       "\n",
       "    .dataframe tbody tr th {\n",
       "        vertical-align: top;\n",
       "    }\n",
       "\n",
       "    .dataframe thead th {\n",
       "        text-align: right;\n",
       "    }\n",
       "</style>\n",
       "<table border=\"1\" class=\"dataframe\">\n",
       "  <thead>\n",
       "    <tr style=\"text-align: right;\">\n",
       "      <th></th>\n",
       "      <th>brewery_id</th>\n",
       "      <th>brewery_name</th>\n",
       "      <th>review_time</th>\n",
       "      <th>review_overall</th>\n",
       "      <th>review_aroma</th>\n",
       "      <th>review_appearance</th>\n",
       "      <th>review_profilename</th>\n",
       "      <th>beer_style</th>\n",
       "      <th>review_palate</th>\n",
       "      <th>review_taste</th>\n",
       "      <th>beer_name</th>\n",
       "      <th>beer_abv</th>\n",
       "      <th>beer_beerid</th>\n",
       "    </tr>\n",
       "  </thead>\n",
       "  <tbody>\n",
       "    <tr>\n",
       "      <th>0</th>\n",
       "      <td>10325</td>\n",
       "      <td>Vecchio Birraio</td>\n",
       "      <td>1234817823</td>\n",
       "      <td>1.5</td>\n",
       "      <td>2.0</td>\n",
       "      <td>2.5</td>\n",
       "      <td>stcules</td>\n",
       "      <td>Hefeweizen</td>\n",
       "      <td>1.5</td>\n",
       "      <td>1.5</td>\n",
       "      <td>Sausa Weizen</td>\n",
       "      <td>5.0</td>\n",
       "      <td>47986</td>\n",
       "    </tr>\n",
       "    <tr>\n",
       "      <th>1</th>\n",
       "      <td>10325</td>\n",
       "      <td>Vecchio Birraio</td>\n",
       "      <td>1235915097</td>\n",
       "      <td>3.0</td>\n",
       "      <td>2.5</td>\n",
       "      <td>3.0</td>\n",
       "      <td>stcules</td>\n",
       "      <td>English Strong Ale</td>\n",
       "      <td>3.0</td>\n",
       "      <td>3.0</td>\n",
       "      <td>Red Moon</td>\n",
       "      <td>6.2</td>\n",
       "      <td>48213</td>\n",
       "    </tr>\n",
       "    <tr>\n",
       "      <th>2</th>\n",
       "      <td>10325</td>\n",
       "      <td>Vecchio Birraio</td>\n",
       "      <td>1235916604</td>\n",
       "      <td>3.0</td>\n",
       "      <td>2.5</td>\n",
       "      <td>3.0</td>\n",
       "      <td>stcules</td>\n",
       "      <td>Foreign / Export Stout</td>\n",
       "      <td>3.0</td>\n",
       "      <td>3.0</td>\n",
       "      <td>Black Horse Black Beer</td>\n",
       "      <td>6.5</td>\n",
       "      <td>48215</td>\n",
       "    </tr>\n",
       "    <tr>\n",
       "      <th>3</th>\n",
       "      <td>10325</td>\n",
       "      <td>Vecchio Birraio</td>\n",
       "      <td>1234725145</td>\n",
       "      <td>3.0</td>\n",
       "      <td>3.0</td>\n",
       "      <td>3.5</td>\n",
       "      <td>stcules</td>\n",
       "      <td>German Pilsener</td>\n",
       "      <td>2.5</td>\n",
       "      <td>3.0</td>\n",
       "      <td>Sausa Pils</td>\n",
       "      <td>5.0</td>\n",
       "      <td>47969</td>\n",
       "    </tr>\n",
       "    <tr>\n",
       "      <th>4</th>\n",
       "      <td>1075</td>\n",
       "      <td>Caldera Brewing Company</td>\n",
       "      <td>1293735206</td>\n",
       "      <td>4.0</td>\n",
       "      <td>4.5</td>\n",
       "      <td>4.0</td>\n",
       "      <td>johnmichaelsen</td>\n",
       "      <td>American Double / Imperial IPA</td>\n",
       "      <td>4.0</td>\n",
       "      <td>4.5</td>\n",
       "      <td>Cauldron DIPA</td>\n",
       "      <td>7.7</td>\n",
       "      <td>64883</td>\n",
       "    </tr>\n",
       "    <tr>\n",
       "      <th>...</th>\n",
       "      <td>...</td>\n",
       "      <td>...</td>\n",
       "      <td>...</td>\n",
       "      <td>...</td>\n",
       "      <td>...</td>\n",
       "      <td>...</td>\n",
       "      <td>...</td>\n",
       "      <td>...</td>\n",
       "      <td>...</td>\n",
       "      <td>...</td>\n",
       "      <td>...</td>\n",
       "      <td>...</td>\n",
       "      <td>...</td>\n",
       "    </tr>\n",
       "    <tr>\n",
       "      <th>1586609</th>\n",
       "      <td>14359</td>\n",
       "      <td>The Defiant Brewing Company</td>\n",
       "      <td>1162684892</td>\n",
       "      <td>5.0</td>\n",
       "      <td>4.0</td>\n",
       "      <td>3.5</td>\n",
       "      <td>maddogruss</td>\n",
       "      <td>Pumpkin Ale</td>\n",
       "      <td>4.0</td>\n",
       "      <td>4.0</td>\n",
       "      <td>The Horseman's Ale</td>\n",
       "      <td>5.2</td>\n",
       "      <td>33061</td>\n",
       "    </tr>\n",
       "    <tr>\n",
       "      <th>1586610</th>\n",
       "      <td>14359</td>\n",
       "      <td>The Defiant Brewing Company</td>\n",
       "      <td>1161048566</td>\n",
       "      <td>4.0</td>\n",
       "      <td>5.0</td>\n",
       "      <td>2.5</td>\n",
       "      <td>yelterdow</td>\n",
       "      <td>Pumpkin Ale</td>\n",
       "      <td>2.0</td>\n",
       "      <td>4.0</td>\n",
       "      <td>The Horseman's Ale</td>\n",
       "      <td>5.2</td>\n",
       "      <td>33061</td>\n",
       "    </tr>\n",
       "    <tr>\n",
       "      <th>1586611</th>\n",
       "      <td>14359</td>\n",
       "      <td>The Defiant Brewing Company</td>\n",
       "      <td>1160702513</td>\n",
       "      <td>4.5</td>\n",
       "      <td>3.5</td>\n",
       "      <td>3.0</td>\n",
       "      <td>TongoRad</td>\n",
       "      <td>Pumpkin Ale</td>\n",
       "      <td>3.5</td>\n",
       "      <td>4.0</td>\n",
       "      <td>The Horseman's Ale</td>\n",
       "      <td>5.2</td>\n",
       "      <td>33061</td>\n",
       "    </tr>\n",
       "    <tr>\n",
       "      <th>1586612</th>\n",
       "      <td>14359</td>\n",
       "      <td>The Defiant Brewing Company</td>\n",
       "      <td>1160023044</td>\n",
       "      <td>4.0</td>\n",
       "      <td>4.5</td>\n",
       "      <td>4.5</td>\n",
       "      <td>dherling</td>\n",
       "      <td>Pumpkin Ale</td>\n",
       "      <td>4.5</td>\n",
       "      <td>4.5</td>\n",
       "      <td>The Horseman's Ale</td>\n",
       "      <td>5.2</td>\n",
       "      <td>33061</td>\n",
       "    </tr>\n",
       "    <tr>\n",
       "      <th>1586613</th>\n",
       "      <td>14359</td>\n",
       "      <td>The Defiant Brewing Company</td>\n",
       "      <td>1160005319</td>\n",
       "      <td>5.0</td>\n",
       "      <td>4.5</td>\n",
       "      <td>4.5</td>\n",
       "      <td>cbl2</td>\n",
       "      <td>Pumpkin Ale</td>\n",
       "      <td>4.5</td>\n",
       "      <td>4.5</td>\n",
       "      <td>The Horseman's Ale</td>\n",
       "      <td>5.2</td>\n",
       "      <td>33061</td>\n",
       "    </tr>\n",
       "  </tbody>\n",
       "</table>\n",
       "<p>1586614 rows × 13 columns</p>\n",
       "</div>"
      ],
      "text/plain": [
       "         brewery_id                 brewery_name  review_time  review_overall  \\\n",
       "0             10325              Vecchio Birraio   1234817823             1.5   \n",
       "1             10325              Vecchio Birraio   1235915097             3.0   \n",
       "2             10325              Vecchio Birraio   1235916604             3.0   \n",
       "3             10325              Vecchio Birraio   1234725145             3.0   \n",
       "4              1075      Caldera Brewing Company   1293735206             4.0   \n",
       "...             ...                          ...          ...             ...   \n",
       "1586609       14359  The Defiant Brewing Company   1162684892             5.0   \n",
       "1586610       14359  The Defiant Brewing Company   1161048566             4.0   \n",
       "1586611       14359  The Defiant Brewing Company   1160702513             4.5   \n",
       "1586612       14359  The Defiant Brewing Company   1160023044             4.0   \n",
       "1586613       14359  The Defiant Brewing Company   1160005319             5.0   \n",
       "\n",
       "         review_aroma  review_appearance review_profilename  \\\n",
       "0                 2.0                2.5            stcules   \n",
       "1                 2.5                3.0            stcules   \n",
       "2                 2.5                3.0            stcules   \n",
       "3                 3.0                3.5            stcules   \n",
       "4                 4.5                4.0     johnmichaelsen   \n",
       "...               ...                ...                ...   \n",
       "1586609           4.0                3.5         maddogruss   \n",
       "1586610           5.0                2.5          yelterdow   \n",
       "1586611           3.5                3.0           TongoRad   \n",
       "1586612           4.5                4.5           dherling   \n",
       "1586613           4.5                4.5               cbl2   \n",
       "\n",
       "                             beer_style  review_palate  review_taste  \\\n",
       "0                            Hefeweizen            1.5           1.5   \n",
       "1                    English Strong Ale            3.0           3.0   \n",
       "2                Foreign / Export Stout            3.0           3.0   \n",
       "3                       German Pilsener            2.5           3.0   \n",
       "4        American Double / Imperial IPA            4.0           4.5   \n",
       "...                                 ...            ...           ...   \n",
       "1586609                     Pumpkin Ale            4.0           4.0   \n",
       "1586610                     Pumpkin Ale            2.0           4.0   \n",
       "1586611                     Pumpkin Ale            3.5           4.0   \n",
       "1586612                     Pumpkin Ale            4.5           4.5   \n",
       "1586613                     Pumpkin Ale            4.5           4.5   \n",
       "\n",
       "                      beer_name  beer_abv  beer_beerid  \n",
       "0                  Sausa Weizen       5.0        47986  \n",
       "1                      Red Moon       6.2        48213  \n",
       "2        Black Horse Black Beer       6.5        48215  \n",
       "3                    Sausa Pils       5.0        47969  \n",
       "4                 Cauldron DIPA       7.7        64883  \n",
       "...                         ...       ...          ...  \n",
       "1586609      The Horseman's Ale       5.2        33061  \n",
       "1586610      The Horseman's Ale       5.2        33061  \n",
       "1586611      The Horseman's Ale       5.2        33061  \n",
       "1586612      The Horseman's Ale       5.2        33061  \n",
       "1586613      The Horseman's Ale       5.2        33061  \n",
       "\n",
       "[1586614 rows x 13 columns]"
      ]
     },
     "execution_count": 2,
     "metadata": {},
     "output_type": "execute_result"
    }
   ],
   "source": [
    "df=pd.read_csv('/kaggle/input/beerreviews/beer_reviews.csv')\n",
    "df"
   ]
  },
  {
   "cell_type": "code",
   "execution_count": 3,
   "id": "2433084c",
   "metadata": {
    "execution": {
     "iopub.execute_input": "2024-08-09T13:46:10.551267Z",
     "iopub.status.busy": "2024-08-09T13:46:10.550782Z",
     "iopub.status.idle": "2024-08-09T13:46:11.075750Z",
     "shell.execute_reply": "2024-08-09T13:46:11.074356Z"
    },
    "papermill": {
     "duration": 0.539342,
     "end_time": "2024-08-09T13:46:11.078960",
     "exception": false,
     "start_time": "2024-08-09T13:46:10.539618",
     "status": "completed"
    },
    "tags": []
   },
   "outputs": [
    {
     "data": {
      "text/html": [
       "<div>\n",
       "<style scoped>\n",
       "    .dataframe tbody tr th:only-of-type {\n",
       "        vertical-align: middle;\n",
       "    }\n",
       "\n",
       "    .dataframe tbody tr th {\n",
       "        vertical-align: top;\n",
       "    }\n",
       "\n",
       "    .dataframe thead th {\n",
       "        text-align: right;\n",
       "    }\n",
       "</style>\n",
       "<table border=\"1\" class=\"dataframe\">\n",
       "  <thead>\n",
       "    <tr style=\"text-align: right;\">\n",
       "      <th></th>\n",
       "      <th>review_overall</th>\n",
       "      <th>review_aroma</th>\n",
       "      <th>review_appearance</th>\n",
       "      <th>review_palate</th>\n",
       "      <th>review_taste</th>\n",
       "      <th>beer_abv</th>\n",
       "    </tr>\n",
       "  </thead>\n",
       "  <tbody>\n",
       "    <tr>\n",
       "      <th>count</th>\n",
       "      <td>1.586614e+06</td>\n",
       "      <td>1.586614e+06</td>\n",
       "      <td>1.586614e+06</td>\n",
       "      <td>1.586614e+06</td>\n",
       "      <td>1.586614e+06</td>\n",
       "      <td>1.518829e+06</td>\n",
       "    </tr>\n",
       "    <tr>\n",
       "      <th>mean</th>\n",
       "      <td>3.815581e+00</td>\n",
       "      <td>3.735636e+00</td>\n",
       "      <td>3.841642e+00</td>\n",
       "      <td>3.743701e+00</td>\n",
       "      <td>3.792860e+00</td>\n",
       "      <td>7.042387e+00</td>\n",
       "    </tr>\n",
       "    <tr>\n",
       "      <th>std</th>\n",
       "      <td>7.206219e-01</td>\n",
       "      <td>6.976167e-01</td>\n",
       "      <td>6.160928e-01</td>\n",
       "      <td>6.822184e-01</td>\n",
       "      <td>7.319696e-01</td>\n",
       "      <td>2.322526e+00</td>\n",
       "    </tr>\n",
       "    <tr>\n",
       "      <th>min</th>\n",
       "      <td>0.000000e+00</td>\n",
       "      <td>1.000000e+00</td>\n",
       "      <td>0.000000e+00</td>\n",
       "      <td>1.000000e+00</td>\n",
       "      <td>1.000000e+00</td>\n",
       "      <td>1.000000e-02</td>\n",
       "    </tr>\n",
       "    <tr>\n",
       "      <th>25%</th>\n",
       "      <td>3.500000e+00</td>\n",
       "      <td>3.500000e+00</td>\n",
       "      <td>3.500000e+00</td>\n",
       "      <td>3.500000e+00</td>\n",
       "      <td>3.500000e+00</td>\n",
       "      <td>5.200000e+00</td>\n",
       "    </tr>\n",
       "    <tr>\n",
       "      <th>50%</th>\n",
       "      <td>4.000000e+00</td>\n",
       "      <td>4.000000e+00</td>\n",
       "      <td>4.000000e+00</td>\n",
       "      <td>4.000000e+00</td>\n",
       "      <td>4.000000e+00</td>\n",
       "      <td>6.500000e+00</td>\n",
       "    </tr>\n",
       "    <tr>\n",
       "      <th>75%</th>\n",
       "      <td>4.500000e+00</td>\n",
       "      <td>4.000000e+00</td>\n",
       "      <td>4.000000e+00</td>\n",
       "      <td>4.000000e+00</td>\n",
       "      <td>4.500000e+00</td>\n",
       "      <td>8.500000e+00</td>\n",
       "    </tr>\n",
       "    <tr>\n",
       "      <th>max</th>\n",
       "      <td>5.000000e+00</td>\n",
       "      <td>5.000000e+00</td>\n",
       "      <td>5.000000e+00</td>\n",
       "      <td>5.000000e+00</td>\n",
       "      <td>5.000000e+00</td>\n",
       "      <td>5.770000e+01</td>\n",
       "    </tr>\n",
       "  </tbody>\n",
       "</table>\n",
       "</div>"
      ],
      "text/plain": [
       "       review_overall  review_aroma  review_appearance  review_palate  \\\n",
       "count    1.586614e+06  1.586614e+06       1.586614e+06   1.586614e+06   \n",
       "mean     3.815581e+00  3.735636e+00       3.841642e+00   3.743701e+00   \n",
       "std      7.206219e-01  6.976167e-01       6.160928e-01   6.822184e-01   \n",
       "min      0.000000e+00  1.000000e+00       0.000000e+00   1.000000e+00   \n",
       "25%      3.500000e+00  3.500000e+00       3.500000e+00   3.500000e+00   \n",
       "50%      4.000000e+00  4.000000e+00       4.000000e+00   4.000000e+00   \n",
       "75%      4.500000e+00  4.000000e+00       4.000000e+00   4.000000e+00   \n",
       "max      5.000000e+00  5.000000e+00       5.000000e+00   5.000000e+00   \n",
       "\n",
       "       review_taste      beer_abv  \n",
       "count  1.586614e+06  1.518829e+06  \n",
       "mean   3.792860e+00  7.042387e+00  \n",
       "std    7.319696e-01  2.322526e+00  \n",
       "min    1.000000e+00  1.000000e-02  \n",
       "25%    3.500000e+00  5.200000e+00  \n",
       "50%    4.000000e+00  6.500000e+00  \n",
       "75%    4.500000e+00  8.500000e+00  \n",
       "max    5.000000e+00  5.770000e+01  "
      ]
     },
     "execution_count": 3,
     "metadata": {},
     "output_type": "execute_result"
    }
   ],
   "source": [
    "filtered_beer_reviews_df = df.drop(columns=['brewery_id', 'review_time', 'review_profilename', 'beer_beerid'])\n",
    "filtered_beer_reviews_df.describe()"
   ]
  },
  {
   "cell_type": "code",
   "execution_count": 4,
   "id": "4f63e922",
   "metadata": {
    "execution": {
     "iopub.execute_input": "2024-08-09T13:46:11.100991Z",
     "iopub.status.busy": "2024-08-09T13:46:11.100605Z",
     "iopub.status.idle": "2024-08-09T13:46:11.641051Z",
     "shell.execute_reply": "2024-08-09T13:46:11.639597Z"
    },
    "papermill": {
     "duration": 0.554984,
     "end_time": "2024-08-09T13:46:11.643973",
     "exception": false,
     "start_time": "2024-08-09T13:46:11.088989",
     "status": "completed"
    },
    "tags": []
   },
   "outputs": [
    {
     "name": "stdout",
     "output_type": "stream",
     "text": [
      "<class 'pandas.core.frame.DataFrame'>\n",
      "RangeIndex: 1586614 entries, 0 to 1586613\n",
      "Data columns (total 9 columns):\n",
      " #   Column             Non-Null Count    Dtype  \n",
      "---  ------             --------------    -----  \n",
      " 0   brewery_name       1586599 non-null  object \n",
      " 1   review_overall     1586614 non-null  float64\n",
      " 2   review_aroma       1586614 non-null  float64\n",
      " 3   review_appearance  1586614 non-null  float64\n",
      " 4   beer_style         1586614 non-null  object \n",
      " 5   review_palate      1586614 non-null  float64\n",
      " 6   review_taste       1586614 non-null  float64\n",
      " 7   beer_name          1586614 non-null  object \n",
      " 8   beer_abv           1518829 non-null  float64\n",
      "dtypes: float64(6), object(3)\n",
      "memory usage: 108.9+ MB\n"
     ]
    }
   ],
   "source": [
    "filtered_beer_reviews_df.info()"
   ]
  },
  {
   "cell_type": "code",
   "execution_count": 5,
   "id": "30c20450",
   "metadata": {
    "execution": {
     "iopub.execute_input": "2024-08-09T13:46:11.666917Z",
     "iopub.status.busy": "2024-08-09T13:46:11.665802Z",
     "iopub.status.idle": "2024-08-09T13:46:12.024027Z",
     "shell.execute_reply": "2024-08-09T13:46:12.022759Z"
    },
    "papermill": {
     "duration": 0.372943,
     "end_time": "2024-08-09T13:46:12.027112",
     "exception": false,
     "start_time": "2024-08-09T13:46:11.654169",
     "status": "completed"
    },
    "tags": []
   },
   "outputs": [
    {
     "name": "stderr",
     "output_type": "stream",
     "text": [
      "/tmp/ipykernel_18/2681187454.py:1: FutureWarning: A value is trying to be set on a copy of a DataFrame or Series through chained assignment using an inplace method.\n",
      "The behavior will change in pandas 3.0. This inplace method will never work because the intermediate object on which we are setting values always behaves as a copy.\n",
      "\n",
      "For example, when doing 'df[col].method(value, inplace=True)', try using 'df.method({col: value}, inplace=True)' or df[col] = df[col].method(value) instead, to perform the operation inplace on the original object.\n",
      "\n",
      "\n",
      "  filtered_beer_reviews_df['beer_abv'].fillna(0, inplace=True)\n"
     ]
    },
    {
     "data": {
      "text/html": [
       "<div>\n",
       "<style scoped>\n",
       "    .dataframe tbody tr th:only-of-type {\n",
       "        vertical-align: middle;\n",
       "    }\n",
       "\n",
       "    .dataframe tbody tr th {\n",
       "        vertical-align: top;\n",
       "    }\n",
       "\n",
       "    .dataframe thead th {\n",
       "        text-align: right;\n",
       "    }\n",
       "</style>\n",
       "<table border=\"1\" class=\"dataframe\">\n",
       "  <thead>\n",
       "    <tr style=\"text-align: right;\">\n",
       "      <th></th>\n",
       "      <th>brewery_name</th>\n",
       "      <th>review_overall</th>\n",
       "      <th>review_aroma</th>\n",
       "      <th>review_appearance</th>\n",
       "      <th>beer_style</th>\n",
       "      <th>review_palate</th>\n",
       "      <th>review_taste</th>\n",
       "      <th>beer_name</th>\n",
       "      <th>beer_abv</th>\n",
       "    </tr>\n",
       "  </thead>\n",
       "  <tbody>\n",
       "    <tr>\n",
       "      <th>0</th>\n",
       "      <td>Vecchio Birraio</td>\n",
       "      <td>1.5</td>\n",
       "      <td>2.0</td>\n",
       "      <td>2.5</td>\n",
       "      <td>Hefeweizen</td>\n",
       "      <td>1.5</td>\n",
       "      <td>1.5</td>\n",
       "      <td>Sausa Weizen</td>\n",
       "      <td>5.0</td>\n",
       "    </tr>\n",
       "    <tr>\n",
       "      <th>1</th>\n",
       "      <td>Vecchio Birraio</td>\n",
       "      <td>3.0</td>\n",
       "      <td>2.5</td>\n",
       "      <td>3.0</td>\n",
       "      <td>English Strong Ale</td>\n",
       "      <td>3.0</td>\n",
       "      <td>3.0</td>\n",
       "      <td>Red Moon</td>\n",
       "      <td>6.2</td>\n",
       "    </tr>\n",
       "    <tr>\n",
       "      <th>2</th>\n",
       "      <td>Vecchio Birraio</td>\n",
       "      <td>3.0</td>\n",
       "      <td>2.5</td>\n",
       "      <td>3.0</td>\n",
       "      <td>Foreign / Export Stout</td>\n",
       "      <td>3.0</td>\n",
       "      <td>3.0</td>\n",
       "      <td>Black Horse Black Beer</td>\n",
       "      <td>6.5</td>\n",
       "    </tr>\n",
       "    <tr>\n",
       "      <th>3</th>\n",
       "      <td>Vecchio Birraio</td>\n",
       "      <td>3.0</td>\n",
       "      <td>3.0</td>\n",
       "      <td>3.5</td>\n",
       "      <td>German Pilsener</td>\n",
       "      <td>2.5</td>\n",
       "      <td>3.0</td>\n",
       "      <td>Sausa Pils</td>\n",
       "      <td>5.0</td>\n",
       "    </tr>\n",
       "    <tr>\n",
       "      <th>4</th>\n",
       "      <td>Caldera Brewing Company</td>\n",
       "      <td>4.0</td>\n",
       "      <td>4.5</td>\n",
       "      <td>4.0</td>\n",
       "      <td>American Double / Imperial IPA</td>\n",
       "      <td>4.0</td>\n",
       "      <td>4.5</td>\n",
       "      <td>Cauldron DIPA</td>\n",
       "      <td>7.7</td>\n",
       "    </tr>\n",
       "    <tr>\n",
       "      <th>5</th>\n",
       "      <td>Caldera Brewing Company</td>\n",
       "      <td>3.0</td>\n",
       "      <td>3.5</td>\n",
       "      <td>3.5</td>\n",
       "      <td>Herbed / Spiced Beer</td>\n",
       "      <td>3.0</td>\n",
       "      <td>3.5</td>\n",
       "      <td>Caldera Ginger Beer</td>\n",
       "      <td>4.7</td>\n",
       "    </tr>\n",
       "    <tr>\n",
       "      <th>6</th>\n",
       "      <td>Caldera Brewing Company</td>\n",
       "      <td>3.5</td>\n",
       "      <td>3.5</td>\n",
       "      <td>3.5</td>\n",
       "      <td>Herbed / Spiced Beer</td>\n",
       "      <td>4.0</td>\n",
       "      <td>4.0</td>\n",
       "      <td>Caldera Ginger Beer</td>\n",
       "      <td>4.7</td>\n",
       "    </tr>\n",
       "    <tr>\n",
       "      <th>7</th>\n",
       "      <td>Caldera Brewing Company</td>\n",
       "      <td>3.0</td>\n",
       "      <td>2.5</td>\n",
       "      <td>3.5</td>\n",
       "      <td>Herbed / Spiced Beer</td>\n",
       "      <td>2.0</td>\n",
       "      <td>3.5</td>\n",
       "      <td>Caldera Ginger Beer</td>\n",
       "      <td>4.7</td>\n",
       "    </tr>\n",
       "    <tr>\n",
       "      <th>8</th>\n",
       "      <td>Caldera Brewing Company</td>\n",
       "      <td>4.0</td>\n",
       "      <td>3.0</td>\n",
       "      <td>3.5</td>\n",
       "      <td>Herbed / Spiced Beer</td>\n",
       "      <td>3.5</td>\n",
       "      <td>4.0</td>\n",
       "      <td>Caldera Ginger Beer</td>\n",
       "      <td>4.7</td>\n",
       "    </tr>\n",
       "    <tr>\n",
       "      <th>9</th>\n",
       "      <td>Caldera Brewing Company</td>\n",
       "      <td>4.5</td>\n",
       "      <td>3.5</td>\n",
       "      <td>5.0</td>\n",
       "      <td>Herbed / Spiced Beer</td>\n",
       "      <td>4.0</td>\n",
       "      <td>4.0</td>\n",
       "      <td>Caldera Ginger Beer</td>\n",
       "      <td>4.7</td>\n",
       "    </tr>\n",
       "  </tbody>\n",
       "</table>\n",
       "</div>"
      ],
      "text/plain": [
       "              brewery_name  review_overall  review_aroma  review_appearance  \\\n",
       "0          Vecchio Birraio             1.5           2.0                2.5   \n",
       "1          Vecchio Birraio             3.0           2.5                3.0   \n",
       "2          Vecchio Birraio             3.0           2.5                3.0   \n",
       "3          Vecchio Birraio             3.0           3.0                3.5   \n",
       "4  Caldera Brewing Company             4.0           4.5                4.0   \n",
       "5  Caldera Brewing Company             3.0           3.5                3.5   \n",
       "6  Caldera Brewing Company             3.5           3.5                3.5   \n",
       "7  Caldera Brewing Company             3.0           2.5                3.5   \n",
       "8  Caldera Brewing Company             4.0           3.0                3.5   \n",
       "9  Caldera Brewing Company             4.5           3.5                5.0   \n",
       "\n",
       "                       beer_style  review_palate  review_taste  \\\n",
       "0                      Hefeweizen            1.5           1.5   \n",
       "1              English Strong Ale            3.0           3.0   \n",
       "2          Foreign / Export Stout            3.0           3.0   \n",
       "3                 German Pilsener            2.5           3.0   \n",
       "4  American Double / Imperial IPA            4.0           4.5   \n",
       "5            Herbed / Spiced Beer            3.0           3.5   \n",
       "6            Herbed / Spiced Beer            4.0           4.0   \n",
       "7            Herbed / Spiced Beer            2.0           3.5   \n",
       "8            Herbed / Spiced Beer            3.5           4.0   \n",
       "9            Herbed / Spiced Beer            4.0           4.0   \n",
       "\n",
       "                beer_name  beer_abv  \n",
       "0            Sausa Weizen       5.0  \n",
       "1                Red Moon       6.2  \n",
       "2  Black Horse Black Beer       6.5  \n",
       "3              Sausa Pils       5.0  \n",
       "4           Cauldron DIPA       7.7  \n",
       "5     Caldera Ginger Beer       4.7  \n",
       "6     Caldera Ginger Beer       4.7  \n",
       "7     Caldera Ginger Beer       4.7  \n",
       "8     Caldera Ginger Beer       4.7  \n",
       "9     Caldera Ginger Beer       4.7  "
      ]
     },
     "execution_count": 5,
     "metadata": {},
     "output_type": "execute_result"
    }
   ],
   "source": [
    "filtered_beer_reviews_df['beer_abv'].fillna(0, inplace=True)\n",
    "#filtered_beer_reviews_df.dropna(subset=['beer_abv'], inplace=True)\n",
    "filtered_beer_reviews_df.dropna(subset=['brewery_name'], inplace=True)\n",
    "filtered_beer_reviews_df.head(10)"
   ]
  },
  {
   "cell_type": "code",
   "execution_count": 6,
   "id": "fc7f7dab",
   "metadata": {
    "execution": {
     "iopub.execute_input": "2024-08-09T13:46:12.051024Z",
     "iopub.status.busy": "2024-08-09T13:46:12.050556Z",
     "iopub.status.idle": "2024-08-09T13:46:12.137539Z",
     "shell.execute_reply": "2024-08-09T13:46:12.136111Z"
    },
    "papermill": {
     "duration": 0.102531,
     "end_time": "2024-08-09T13:46:12.140652",
     "exception": false,
     "start_time": "2024-08-09T13:46:12.038121",
     "status": "completed"
    },
    "tags": []
   },
   "outputs": [],
   "source": [
    "X = filtered_beer_reviews_df.drop(columns=['review_overall'])\n",
    "y = filtered_beer_reviews_df['review_overall']"
   ]
  },
  {
   "cell_type": "code",
   "execution_count": 7,
   "id": "734a024a",
   "metadata": {
    "execution": {
     "iopub.execute_input": "2024-08-09T13:46:12.164143Z",
     "iopub.status.busy": "2024-08-09T13:46:12.163698Z",
     "iopub.status.idle": "2024-08-09T13:46:13.717028Z",
     "shell.execute_reply": "2024-08-09T13:46:13.715470Z"
    },
    "papermill": {
     "duration": 1.568627,
     "end_time": "2024-08-09T13:46:13.720120",
     "exception": false,
     "start_time": "2024-08-09T13:46:12.151493",
     "status": "completed"
    },
    "tags": []
   },
   "outputs": [
    {
     "name": "stdout",
     "output_type": "stream",
     "text": [
      "Train: 951959 samples \t 60%\n",
      "Test:  317320 samples \t 20%\n",
      "Val:   317320 samples \t 20%\n"
     ]
    }
   ],
   "source": [
    "X_train, X_test, y_train, y_test = train_test_split(X, y,\n",
    "                                                    train_size=0.8,\n",
    "                                                    random_state=42)\n",
    "\n",
    "X_train, X_val, y_train, y_val = train_test_split(X_train, y_train,\n",
    "                                                  train_size=0.75,\n",
    "                                                  random_state=42)\n",
    "\n",
    "print(f'Train: {X_train.shape[0]} samples \\t {round(X_train.shape[0] / X.shape[0] * 100)}%')\n",
    "print(f'Test:  {X_test.shape[0]} samples \\t {round(X_test.shape[0] / X.shape[0] * 100)}%')\n",
    "print(f'Val:   {X_val.shape[0]} samples \\t {round(X_val.shape[0] / X.shape[0] * 100)}%')"
   ]
  },
  {
   "cell_type": "code",
   "execution_count": 8,
   "id": "c12ed9f9",
   "metadata": {
    "execution": {
     "iopub.execute_input": "2024-08-09T13:46:13.745516Z",
     "iopub.status.busy": "2024-08-09T13:46:13.744373Z",
     "iopub.status.idle": "2024-08-09T13:46:13.881310Z",
     "shell.execute_reply": "2024-08-09T13:46:13.880056Z"
    },
    "papermill": {
     "duration": 0.152334,
     "end_time": "2024-08-09T13:46:13.884202",
     "exception": false,
     "start_time": "2024-08-09T13:46:13.731868",
     "status": "completed"
    },
    "tags": []
   },
   "outputs": [
    {
     "data": {
      "text/html": [
       "<style>#sk-container-id-1 {color: black;background-color: white;}#sk-container-id-1 pre{padding: 0;}#sk-container-id-1 div.sk-toggleable {background-color: white;}#sk-container-id-1 label.sk-toggleable__label {cursor: pointer;display: block;width: 100%;margin-bottom: 0;padding: 0.3em;box-sizing: border-box;text-align: center;}#sk-container-id-1 label.sk-toggleable__label-arrow:before {content: \"▸\";float: left;margin-right: 0.25em;color: #696969;}#sk-container-id-1 label.sk-toggleable__label-arrow:hover:before {color: black;}#sk-container-id-1 div.sk-estimator:hover label.sk-toggleable__label-arrow:before {color: black;}#sk-container-id-1 div.sk-toggleable__content {max-height: 0;max-width: 0;overflow: hidden;text-align: left;background-color: #f0f8ff;}#sk-container-id-1 div.sk-toggleable__content pre {margin: 0.2em;color: black;border-radius: 0.25em;background-color: #f0f8ff;}#sk-container-id-1 input.sk-toggleable__control:checked~div.sk-toggleable__content {max-height: 200px;max-width: 100%;overflow: auto;}#sk-container-id-1 input.sk-toggleable__control:checked~label.sk-toggleable__label-arrow:before {content: \"▾\";}#sk-container-id-1 div.sk-estimator input.sk-toggleable__control:checked~label.sk-toggleable__label {background-color: #d4ebff;}#sk-container-id-1 div.sk-label input.sk-toggleable__control:checked~label.sk-toggleable__label {background-color: #d4ebff;}#sk-container-id-1 input.sk-hidden--visually {border: 0;clip: rect(1px 1px 1px 1px);clip: rect(1px, 1px, 1px, 1px);height: 1px;margin: -1px;overflow: hidden;padding: 0;position: absolute;width: 1px;}#sk-container-id-1 div.sk-estimator {font-family: monospace;background-color: #f0f8ff;border: 1px dotted black;border-radius: 0.25em;box-sizing: border-box;margin-bottom: 0.5em;}#sk-container-id-1 div.sk-estimator:hover {background-color: #d4ebff;}#sk-container-id-1 div.sk-parallel-item::after {content: \"\";width: 100%;border-bottom: 1px solid gray;flex-grow: 1;}#sk-container-id-1 div.sk-label:hover label.sk-toggleable__label {background-color: #d4ebff;}#sk-container-id-1 div.sk-serial::before {content: \"\";position: absolute;border-left: 1px solid gray;box-sizing: border-box;top: 0;bottom: 0;left: 50%;z-index: 0;}#sk-container-id-1 div.sk-serial {display: flex;flex-direction: column;align-items: center;background-color: white;padding-right: 0.2em;padding-left: 0.2em;position: relative;}#sk-container-id-1 div.sk-item {position: relative;z-index: 1;}#sk-container-id-1 div.sk-parallel {display: flex;align-items: stretch;justify-content: center;background-color: white;position: relative;}#sk-container-id-1 div.sk-item::before, #sk-container-id-1 div.sk-parallel-item::before {content: \"\";position: absolute;border-left: 1px solid gray;box-sizing: border-box;top: 0;bottom: 0;left: 50%;z-index: -1;}#sk-container-id-1 div.sk-parallel-item {display: flex;flex-direction: column;z-index: 1;position: relative;background-color: white;}#sk-container-id-1 div.sk-parallel-item:first-child::after {align-self: flex-end;width: 50%;}#sk-container-id-1 div.sk-parallel-item:last-child::after {align-self: flex-start;width: 50%;}#sk-container-id-1 div.sk-parallel-item:only-child::after {width: 0;}#sk-container-id-1 div.sk-dashed-wrapped {border: 1px dashed gray;margin: 0 0.4em 0.5em 0.4em;box-sizing: border-box;padding-bottom: 0.4em;background-color: white;}#sk-container-id-1 div.sk-label label {font-family: monospace;font-weight: bold;display: inline-block;line-height: 1.2em;}#sk-container-id-1 div.sk-label-container {text-align: center;}#sk-container-id-1 div.sk-container {/* jupyter's `normalize.less` sets `[hidden] { display: none; }` but bootstrap.min.css set `[hidden] { display: none !important; }` so we also need the `!important` here to be able to override the default hidden behavior on the sphinx rendered scikit-learn.org. See: https://github.com/scikit-learn/scikit-learn/issues/21755 */display: inline-block !important;position: relative;}#sk-container-id-1 div.sk-text-repr-fallback {display: none;}</style><div id=\"sk-container-id-1\" class=\"sk-top-container\"><div class=\"sk-text-repr-fallback\"><pre>ColumnTransformer(transformers=[(&#x27;num&#x27;,\n",
       "                                 Pipeline(steps=[(&#x27;imputer&#x27;,\n",
       "                                                  SimpleImputer(strategy=&#x27;median&#x27;))]),\n",
       "                                 Index([&#x27;review_aroma&#x27;, &#x27;review_appearance&#x27;, &#x27;review_palate&#x27;, &#x27;review_taste&#x27;,\n",
       "       &#x27;beer_abv&#x27;],\n",
       "      dtype=&#x27;object&#x27;)),\n",
       "                                (&#x27;cat&#x27;,\n",
       "                                 Pipeline(steps=[(&#x27;imputer&#x27;,\n",
       "                                                  SimpleImputer(strategy=&#x27;most_frequent&#x27;)),\n",
       "                                                 (&#x27;encoder&#x27;,\n",
       "                                                  OrdinalEncoder(handle_unknown=&#x27;use_encoded_value&#x27;,\n",
       "                                                                 unknown_value=-1))]),\n",
       "                                 Index([&#x27;brewery_name&#x27;, &#x27;beer_style&#x27;, &#x27;beer_name&#x27;], dtype=&#x27;object&#x27;))])</pre><b>In a Jupyter environment, please rerun this cell to show the HTML representation or trust the notebook. <br />On GitHub, the HTML representation is unable to render, please try loading this page with nbviewer.org.</b></div><div class=\"sk-container\" hidden><div class=\"sk-item sk-dashed-wrapped\"><div class=\"sk-label-container\"><div class=\"sk-label sk-toggleable\"><input class=\"sk-toggleable__control sk-hidden--visually\" id=\"sk-estimator-id-1\" type=\"checkbox\" ><label for=\"sk-estimator-id-1\" class=\"sk-toggleable__label sk-toggleable__label-arrow\">ColumnTransformer</label><div class=\"sk-toggleable__content\"><pre>ColumnTransformer(transformers=[(&#x27;num&#x27;,\n",
       "                                 Pipeline(steps=[(&#x27;imputer&#x27;,\n",
       "                                                  SimpleImputer(strategy=&#x27;median&#x27;))]),\n",
       "                                 Index([&#x27;review_aroma&#x27;, &#x27;review_appearance&#x27;, &#x27;review_palate&#x27;, &#x27;review_taste&#x27;,\n",
       "       &#x27;beer_abv&#x27;],\n",
       "      dtype=&#x27;object&#x27;)),\n",
       "                                (&#x27;cat&#x27;,\n",
       "                                 Pipeline(steps=[(&#x27;imputer&#x27;,\n",
       "                                                  SimpleImputer(strategy=&#x27;most_frequent&#x27;)),\n",
       "                                                 (&#x27;encoder&#x27;,\n",
       "                                                  OrdinalEncoder(handle_unknown=&#x27;use_encoded_value&#x27;,\n",
       "                                                                 unknown_value=-1))]),\n",
       "                                 Index([&#x27;brewery_name&#x27;, &#x27;beer_style&#x27;, &#x27;beer_name&#x27;], dtype=&#x27;object&#x27;))])</pre></div></div></div><div class=\"sk-parallel\"><div class=\"sk-parallel-item\"><div class=\"sk-item\"><div class=\"sk-label-container\"><div class=\"sk-label sk-toggleable\"><input class=\"sk-toggleable__control sk-hidden--visually\" id=\"sk-estimator-id-2\" type=\"checkbox\" ><label for=\"sk-estimator-id-2\" class=\"sk-toggleable__label sk-toggleable__label-arrow\">num</label><div class=\"sk-toggleable__content\"><pre>Index([&#x27;review_aroma&#x27;, &#x27;review_appearance&#x27;, &#x27;review_palate&#x27;, &#x27;review_taste&#x27;,\n",
       "       &#x27;beer_abv&#x27;],\n",
       "      dtype=&#x27;object&#x27;)</pre></div></div></div><div class=\"sk-serial\"><div class=\"sk-item\"><div class=\"sk-serial\"><div class=\"sk-item\"><div class=\"sk-estimator sk-toggleable\"><input class=\"sk-toggleable__control sk-hidden--visually\" id=\"sk-estimator-id-3\" type=\"checkbox\" ><label for=\"sk-estimator-id-3\" class=\"sk-toggleable__label sk-toggleable__label-arrow\">SimpleImputer</label><div class=\"sk-toggleable__content\"><pre>SimpleImputer(strategy=&#x27;median&#x27;)</pre></div></div></div></div></div></div></div></div><div class=\"sk-parallel-item\"><div class=\"sk-item\"><div class=\"sk-label-container\"><div class=\"sk-label sk-toggleable\"><input class=\"sk-toggleable__control sk-hidden--visually\" id=\"sk-estimator-id-4\" type=\"checkbox\" ><label for=\"sk-estimator-id-4\" class=\"sk-toggleable__label sk-toggleable__label-arrow\">cat</label><div class=\"sk-toggleable__content\"><pre>Index([&#x27;brewery_name&#x27;, &#x27;beer_style&#x27;, &#x27;beer_name&#x27;], dtype=&#x27;object&#x27;)</pre></div></div></div><div class=\"sk-serial\"><div class=\"sk-item\"><div class=\"sk-serial\"><div class=\"sk-item\"><div class=\"sk-estimator sk-toggleable\"><input class=\"sk-toggleable__control sk-hidden--visually\" id=\"sk-estimator-id-5\" type=\"checkbox\" ><label for=\"sk-estimator-id-5\" class=\"sk-toggleable__label sk-toggleable__label-arrow\">SimpleImputer</label><div class=\"sk-toggleable__content\"><pre>SimpleImputer(strategy=&#x27;most_frequent&#x27;)</pre></div></div></div><div class=\"sk-item\"><div class=\"sk-estimator sk-toggleable\"><input class=\"sk-toggleable__control sk-hidden--visually\" id=\"sk-estimator-id-6\" type=\"checkbox\" ><label for=\"sk-estimator-id-6\" class=\"sk-toggleable__label sk-toggleable__label-arrow\">OrdinalEncoder</label><div class=\"sk-toggleable__content\"><pre>OrdinalEncoder(handle_unknown=&#x27;use_encoded_value&#x27;, unknown_value=-1)</pre></div></div></div></div></div></div></div></div></div></div></div></div>"
      ],
      "text/plain": [
       "ColumnTransformer(transformers=[('num',\n",
       "                                 Pipeline(steps=[('imputer',\n",
       "                                                  SimpleImputer(strategy='median'))]),\n",
       "                                 Index(['review_aroma', 'review_appearance', 'review_palate', 'review_taste',\n",
       "       'beer_abv'],\n",
       "      dtype='object')),\n",
       "                                ('cat',\n",
       "                                 Pipeline(steps=[('imputer',\n",
       "                                                  SimpleImputer(strategy='most_frequent')),\n",
       "                                                 ('encoder',\n",
       "                                                  OrdinalEncoder(handle_unknown='use_encoded_value',\n",
       "                                                                 unknown_value=-1))]),\n",
       "                                 Index(['brewery_name', 'beer_style', 'beer_name'], dtype='object'))])"
      ]
     },
     "execution_count": 8,
     "metadata": {},
     "output_type": "execute_result"
    }
   ],
   "source": [
    "num_columns = X.select_dtypes(include=\"number\").columns\n",
    "cat_columns = X.select_dtypes(include=\"object\").columns\n",
    "\n",
    "num_transformer = Pipeline(\n",
    "    steps=[(\"imputer\", SimpleImputer(strategy=\"median\"))]\n",
    "    )\n",
    "\n",
    "cat_transformer = Pipeline(\n",
    "    steps=[(\"imputer\", SimpleImputer(strategy=\"most_frequent\")),\n",
    "           (\"encoder\", OrdinalEncoder(handle_unknown='use_encoded_value', unknown_value =-1))])\n",
    "\n",
    "preprocessor = ColumnTransformer(\n",
    "    transformers=[\n",
    "        (\"num\", num_transformer, num_columns),\n",
    "        (\"cat\", cat_transformer, cat_columns),\n",
    "    ]\n",
    ")\n",
    "\n",
    "preprocessor.set_output(transform='pandas')\n",
    "preprocessor"
   ]
  },
  {
   "cell_type": "code",
   "execution_count": 9,
   "id": "e9b53b00",
   "metadata": {
    "execution": {
     "iopub.execute_input": "2024-08-09T13:46:13.909586Z",
     "iopub.status.busy": "2024-08-09T13:46:13.908855Z",
     "iopub.status.idle": "2024-08-09T13:46:18.654288Z",
     "shell.execute_reply": "2024-08-09T13:46:18.653035Z"
    },
    "papermill": {
     "duration": 4.761896,
     "end_time": "2024-08-09T13:46:18.657364",
     "exception": false,
     "start_time": "2024-08-09T13:46:13.895468",
     "status": "completed"
    },
    "tags": []
   },
   "outputs": [],
   "source": [
    "X_train = preprocessor.fit_transform(X_train)\n",
    "\n",
    "X_val = preprocessor.transform(X_val)\n",
    "X_test = preprocessor.transform(X_test)"
   ]
  },
  {
   "cell_type": "code",
   "execution_count": 10,
   "id": "1145b8ad",
   "metadata": {
    "execution": {
     "iopub.execute_input": "2024-08-09T13:46:18.681663Z",
     "iopub.status.busy": "2024-08-09T13:46:18.681166Z",
     "iopub.status.idle": "2024-08-09T13:46:18.699600Z",
     "shell.execute_reply": "2024-08-09T13:46:18.698324Z"
    },
    "papermill": {
     "duration": 0.034043,
     "end_time": "2024-08-09T13:46:18.702620",
     "exception": false,
     "start_time": "2024-08-09T13:46:18.668577",
     "status": "completed"
    },
    "tags": []
   },
   "outputs": [],
   "source": [
    "def objective(trial):\n",
    "    params = {\n",
    "        'objective': 'regression',\n",
    "        'boosting_type': trial.suggest_categorical('boosting_type', ['gbdt', 'goss', 'rf']),\n",
    "        'n_estimators': trial.suggest_int('n_estimators', 50, 200),\n",
    "        'learning_rate': trial.suggest_float('learning_rate', 1e-3, 1.0, log=True),\n",
    "        'num_leaves': trial.suggest_int('num_leaves', 2, 512),\n",
    "        'max_depth': trial.suggest_int('max_depth', -1, 100),\n",
    "        'min_data_in_leaf': trial.suggest_int('min_data_in_leaf', 1, 200),\n",
    "        'min_sum_hessian_in_leaf': trial.suggest_float('min_sum_hessian_in_leaf', 1e-3, 10.0),\n",
    "        'feature_fraction': trial.suggest_float('feature_fraction', 0.4, 1.0),\n",
    "        'lambda_l1': trial.suggest_float('lambda_l1', 1e-8, 10.0, log=True),\n",
    "        'lambda_l2': trial.suggest_float('lambda_l2', 1e-8, 10.0, log=True),\n",
    "        'min_gain_to_split': trial.suggest_float('min_gain_to_split', 0.0, 1.0),\n",
    "        'max_bin': trial.suggest_int('max_bin', 15, 255),\n",
    "        'boost_from_average': True,\n",
    "        'scale_pos_weight': trial.suggest_float('scale_pos_weight', 1e-3, 10.0),\n",
    "        'is_unbalance': trial.suggest_categorical('is_unbalance', [True, False]),\n",
    "        'metric': 'rmse',\n",
    "        'verbosity': -1,\n",
    "        'force_col_wise': trial.suggest_categorical('force_col_wise', [True, False]),\n",
    "        'max_cat_threshold': trial.suggest_int('max_cat_threshold', 1, 128),\n",
    "        'cat_l2': trial.suggest_float('cat_l2', 1e-3, 10.0),\n",
    "        'cat_smooth': trial.suggest_float('cat_smooth', 1e-3, 10.0),\n",
    "        'max_cat_to_onehot': trial.suggest_int('max_cat_to_onehot', 1, 128),\n",
    "        'top_rate': trial.suggest_float('top_rate', 0.0, 1.0),\n",
    "        'other_rate': trial.suggest_float('other_rate', 0.0, 1.0 - trial.suggest_float('top_rate', 0.0, 1.0)),\n",
    "        'min_data_per_group': trial.suggest_int('min_data_per_group', 1, 100),\n",
    "        'max_cat_trees': trial.suggest_int('max_cat_trees', 1, 128),\n",
    "        'path_smooth': trial.suggest_float('path_smooth', 0.0, 1.0),\n",
    "        'feature_fraction_bynode': trial.suggest_float('feature_fraction_bynode', 0.0, 1.0),\n",
    "        'tweedie_variance_power': trial.suggest_float('tweedie_variance_power', 1.0, 2.0),\n",
    "    }\n",
    "\n",
    "    model = lgb.LGBMRegressor(**params)\n",
    "\n",
    "    early_stopping_callback = lgb.early_stopping(stopping_rounds=trial.suggest_int('early_stopping_round', 10, 100), verbose=False)\n",
    "\n",
    "    model.fit(\n",
    "        X_train, y_train,\n",
    "        eval_set=[(X_val, y_val)],\n",
    "        eval_metric='rmse',\n",
    "        callbacks=[early_stopping_callback]\n",
    "    )\n",
    "\n",
    "    y_pred = model.predict(X_val)\n",
    "    r2 = metrics.r2_score(y_val, y_pred)\n",
    "    mae = metrics.mean_absolute_error(y_val, y_pred)\n",
    "    rmse = metrics.mean_squared_error(y_val, y_pred) ** 0.5\n",
    "\n",
    "    return r2, mae, rmse"
   ]
  },
  {
   "cell_type": "code",
   "execution_count": 11,
   "id": "9efa9b71",
   "metadata": {
    "execution": {
     "iopub.execute_input": "2024-08-09T13:46:18.727412Z",
     "iopub.status.busy": "2024-08-09T13:46:18.726913Z",
     "iopub.status.idle": "2024-08-09T14:28:54.719269Z",
     "shell.execute_reply": "2024-08-09T14:28:54.717791Z"
    },
    "papermill": {
     "duration": 2556.009338,
     "end_time": "2024-08-09T14:28:54.723215",
     "exception": false,
     "start_time": "2024-08-09T13:46:18.713877",
     "status": "completed"
    },
    "tags": []
   },
   "outputs": [],
   "source": [
    "optuna.logging.set_verbosity(optuna.logging.WARNING)\n",
    "study = optuna.create_study(directions=['maximize', 'minimize', 'minimize'])\n",
    "study.optimize(objective, n_trials=100)"
   ]
  },
  {
   "cell_type": "code",
   "execution_count": 12,
   "id": "4675e248",
   "metadata": {
    "execution": {
     "iopub.execute_input": "2024-08-09T14:28:54.748834Z",
     "iopub.status.busy": "2024-08-09T14:28:54.748358Z",
     "iopub.status.idle": "2024-08-09T14:28:54.842209Z",
     "shell.execute_reply": "2024-08-09T14:28:54.840885Z"
    },
    "papermill": {
     "duration": 0.109993,
     "end_time": "2024-08-09T14:28:54.845442",
     "exception": false,
     "start_time": "2024-08-09T14:28:54.735449",
     "status": "completed"
    },
    "tags": []
   },
   "outputs": [
    {
     "data": {
      "text/plain": [
       "1"
      ]
     },
     "execution_count": 12,
     "metadata": {},
     "output_type": "execute_result"
    }
   ],
   "source": [
    "len(study.best_trials)"
   ]
  },
  {
   "cell_type": "code",
   "execution_count": 13,
   "id": "1b6fca38",
   "metadata": {
    "execution": {
     "iopub.execute_input": "2024-08-09T14:28:54.871767Z",
     "iopub.status.busy": "2024-08-09T14:28:54.871208Z",
     "iopub.status.idle": "2024-08-09T14:28:54.959266Z",
     "shell.execute_reply": "2024-08-09T14:28:54.958043Z"
    },
    "papermill": {
     "duration": 0.104311,
     "end_time": "2024-08-09T14:28:54.962052",
     "exception": false,
     "start_time": "2024-08-09T14:28:54.857741",
     "status": "completed"
    },
    "tags": []
   },
   "outputs": [
    {
     "name": "stdout",
     "output_type": "stream",
     "text": [
      "[FrozenTrial(number=98, state=TrialState.COMPLETE, values=[0.6905085971135774, 0.3029860408258731, 0.40051062188621894], datetime_start=datetime.datetime(2024, 8, 9, 14, 28, 8, 535156), datetime_complete=datetime.datetime(2024, 8, 9, 14, 28, 42, 64150), params={'boosting_type': 'goss', 'n_estimators': 91, 'learning_rate': 0.12089533133433601, 'num_leaves': 436, 'max_depth': 50, 'min_data_in_leaf': 124, 'min_sum_hessian_in_leaf': 7.199265950431342, 'feature_fraction': 0.9283965812958562, 'lambda_l1': 0.0018507030662794914, 'lambda_l2': 6.156325802144296e-07, 'min_gain_to_split': 0.03241647793618352, 'max_bin': 96, 'scale_pos_weight': 1.886846809614612, 'is_unbalance': True, 'force_col_wise': False, 'max_cat_threshold': 81, 'cat_l2': 9.94035092446645, 'cat_smooth': 1.4608920337755862, 'max_cat_to_onehot': 86, 'top_rate': 0.38740874375559464, 'other_rate': 0.4662439412675177, 'min_data_per_group': 71, 'max_cat_trees': 100, 'path_smooth': 0.43557172372914066, 'feature_fraction_bynode': 0.5848546662622738, 'tweedie_variance_power': 1.8911146456348016, 'early_stopping_round': 92}, user_attrs={}, system_attrs={'nsga2:generation': 1}, intermediate_values={}, distributions={'boosting_type': CategoricalDistribution(choices=('gbdt', 'goss', 'rf')), 'n_estimators': IntDistribution(high=200, log=False, low=50, step=1), 'learning_rate': FloatDistribution(high=1.0, log=True, low=0.001, step=None), 'num_leaves': IntDistribution(high=512, log=False, low=2, step=1), 'max_depth': IntDistribution(high=100, log=False, low=-1, step=1), 'min_data_in_leaf': IntDistribution(high=200, log=False, low=1, step=1), 'min_sum_hessian_in_leaf': FloatDistribution(high=10.0, log=False, low=0.001, step=None), 'feature_fraction': FloatDistribution(high=1.0, log=False, low=0.4, step=None), 'lambda_l1': FloatDistribution(high=10.0, log=True, low=1e-08, step=None), 'lambda_l2': FloatDistribution(high=10.0, log=True, low=1e-08, step=None), 'min_gain_to_split': FloatDistribution(high=1.0, log=False, low=0.0, step=None), 'max_bin': IntDistribution(high=255, log=False, low=15, step=1), 'scale_pos_weight': FloatDistribution(high=10.0, log=False, low=0.001, step=None), 'is_unbalance': CategoricalDistribution(choices=(True, False)), 'force_col_wise': CategoricalDistribution(choices=(True, False)), 'max_cat_threshold': IntDistribution(high=128, log=False, low=1, step=1), 'cat_l2': FloatDistribution(high=10.0, log=False, low=0.001, step=None), 'cat_smooth': FloatDistribution(high=10.0, log=False, low=0.001, step=None), 'max_cat_to_onehot': IntDistribution(high=128, log=False, low=1, step=1), 'top_rate': FloatDistribution(high=1.0, log=False, low=0.0, step=None), 'other_rate': FloatDistribution(high=0.6125912562444054, log=False, low=0.0, step=None), 'min_data_per_group': IntDistribution(high=100, log=False, low=1, step=1), 'max_cat_trees': IntDistribution(high=128, log=False, low=1, step=1), 'path_smooth': FloatDistribution(high=1.0, log=False, low=0.0, step=None), 'feature_fraction_bynode': FloatDistribution(high=1.0, log=False, low=0.0, step=None), 'tweedie_variance_power': FloatDistribution(high=2.0, log=False, low=1.0, step=None), 'early_stopping_round': IntDistribution(high=100, log=False, low=10, step=1)}, trial_id=98, value=None)]\n"
     ]
    }
   ],
   "source": [
    "print(study.best_trials)"
   ]
  },
  {
   "cell_type": "code",
   "execution_count": 14,
   "id": "a281137b",
   "metadata": {
    "execution": {
     "iopub.execute_input": "2024-08-09T14:28:54.989091Z",
     "iopub.status.busy": "2024-08-09T14:28:54.988630Z",
     "iopub.status.idle": "2024-08-09T14:28:55.096152Z",
     "shell.execute_reply": "2024-08-09T14:28:55.093590Z"
    },
    "papermill": {
     "duration": 0.125291,
     "end_time": "2024-08-09T14:28:55.099931",
     "exception": false,
     "start_time": "2024-08-09T14:28:54.974640",
     "status": "completed"
    },
    "tags": []
   },
   "outputs": [
    {
     "data": {
      "text/html": [
       "<div>\n",
       "<style scoped>\n",
       "    .dataframe tbody tr th:only-of-type {\n",
       "        vertical-align: middle;\n",
       "    }\n",
       "\n",
       "    .dataframe tbody tr th {\n",
       "        vertical-align: top;\n",
       "    }\n",
       "\n",
       "    .dataframe thead th {\n",
       "        text-align: right;\n",
       "    }\n",
       "</style>\n",
       "<table border=\"1\" class=\"dataframe\">\n",
       "  <thead>\n",
       "    <tr style=\"text-align: right;\">\n",
       "      <th></th>\n",
       "      <th>r2</th>\n",
       "      <th>mae</th>\n",
       "      <th>rmse</th>\n",
       "    </tr>\n",
       "  </thead>\n",
       "  <tbody>\n",
       "    <tr>\n",
       "      <th>0</th>\n",
       "      <td>0.690509</td>\n",
       "      <td>0.302986</td>\n",
       "      <td>0.400511</td>\n",
       "    </tr>\n",
       "  </tbody>\n",
       "</table>\n",
       "</div>"
      ],
      "text/plain": [
       "         r2       mae      rmse\n",
       "0  0.690509  0.302986  0.400511"
      ]
     },
     "execution_count": 14,
     "metadata": {},
     "output_type": "execute_result"
    }
   ],
   "source": [
    "data = pd.DataFrame([trial.values for trial in study.best_trials],\n",
    "                    columns=['r2', 'mae', 'rmse'])\n",
    "\n",
    "data"
   ]
  },
  {
   "cell_type": "code",
   "execution_count": 15,
   "id": "5d94ca7f",
   "metadata": {
    "execution": {
     "iopub.execute_input": "2024-08-09T14:28:55.133255Z",
     "iopub.status.busy": "2024-08-09T14:28:55.132728Z",
     "iopub.status.idle": "2024-08-09T14:28:55.226760Z",
     "shell.execute_reply": "2024-08-09T14:28:55.224892Z"
    },
    "papermill": {
     "duration": 0.115967,
     "end_time": "2024-08-09T14:28:55.229764",
     "exception": false,
     "start_time": "2024-08-09T14:28:55.113797",
     "status": "completed"
    },
    "tags": []
   },
   "outputs": [
    {
     "data": {
      "text/plain": [
       "{'boosting_type': 'goss',\n",
       " 'n_estimators': 91,\n",
       " 'learning_rate': 0.12089533133433601,\n",
       " 'num_leaves': 436,\n",
       " 'max_depth': 50,\n",
       " 'min_data_in_leaf': 124,\n",
       " 'min_sum_hessian_in_leaf': 7.199265950431342,\n",
       " 'feature_fraction': 0.9283965812958562,\n",
       " 'lambda_l1': 0.0018507030662794914,\n",
       " 'lambda_l2': 6.156325802144296e-07,\n",
       " 'min_gain_to_split': 0.03241647793618352,\n",
       " 'max_bin': 96,\n",
       " 'scale_pos_weight': 1.886846809614612,\n",
       " 'is_unbalance': True,\n",
       " 'force_col_wise': False,\n",
       " 'max_cat_threshold': 81,\n",
       " 'cat_l2': 9.94035092446645,\n",
       " 'cat_smooth': 1.4608920337755862,\n",
       " 'max_cat_to_onehot': 86,\n",
       " 'top_rate': 0.38740874375559464,\n",
       " 'other_rate': 0.4662439412675177,\n",
       " 'min_data_per_group': 71,\n",
       " 'max_cat_trees': 100,\n",
       " 'path_smooth': 0.43557172372914066,\n",
       " 'feature_fraction_bynode': 0.5848546662622738,\n",
       " 'tweedie_variance_power': 1.8911146456348016,\n",
       " 'early_stopping_round': 92}"
      ]
     },
     "execution_count": 15,
     "metadata": {},
     "output_type": "execute_result"
    }
   ],
   "source": [
    "best_params = study.best_trials[0].params\n",
    "best_params"
   ]
  },
  {
   "cell_type": "code",
   "execution_count": 16,
   "id": "3bb0f01e",
   "metadata": {
    "execution": {
     "iopub.execute_input": "2024-08-09T14:28:55.258217Z",
     "iopub.status.busy": "2024-08-09T14:28:55.257715Z",
     "iopub.status.idle": "2024-08-09T14:29:25.648660Z",
     "shell.execute_reply": "2024-08-09T14:29:25.647472Z"
    },
    "papermill": {
     "duration": 30.4192,
     "end_time": "2024-08-09T14:29:25.663062",
     "exception": false,
     "start_time": "2024-08-09T14:28:55.243862",
     "status": "completed"
    },
    "tags": []
   },
   "outputs": [
    {
     "data": {
      "text/html": [
       "<style>#sk-container-id-2 {color: black;background-color: white;}#sk-container-id-2 pre{padding: 0;}#sk-container-id-2 div.sk-toggleable {background-color: white;}#sk-container-id-2 label.sk-toggleable__label {cursor: pointer;display: block;width: 100%;margin-bottom: 0;padding: 0.3em;box-sizing: border-box;text-align: center;}#sk-container-id-2 label.sk-toggleable__label-arrow:before {content: \"▸\";float: left;margin-right: 0.25em;color: #696969;}#sk-container-id-2 label.sk-toggleable__label-arrow:hover:before {color: black;}#sk-container-id-2 div.sk-estimator:hover label.sk-toggleable__label-arrow:before {color: black;}#sk-container-id-2 div.sk-toggleable__content {max-height: 0;max-width: 0;overflow: hidden;text-align: left;background-color: #f0f8ff;}#sk-container-id-2 div.sk-toggleable__content pre {margin: 0.2em;color: black;border-radius: 0.25em;background-color: #f0f8ff;}#sk-container-id-2 input.sk-toggleable__control:checked~div.sk-toggleable__content {max-height: 200px;max-width: 100%;overflow: auto;}#sk-container-id-2 input.sk-toggleable__control:checked~label.sk-toggleable__label-arrow:before {content: \"▾\";}#sk-container-id-2 div.sk-estimator input.sk-toggleable__control:checked~label.sk-toggleable__label {background-color: #d4ebff;}#sk-container-id-2 div.sk-label input.sk-toggleable__control:checked~label.sk-toggleable__label {background-color: #d4ebff;}#sk-container-id-2 input.sk-hidden--visually {border: 0;clip: rect(1px 1px 1px 1px);clip: rect(1px, 1px, 1px, 1px);height: 1px;margin: -1px;overflow: hidden;padding: 0;position: absolute;width: 1px;}#sk-container-id-2 div.sk-estimator {font-family: monospace;background-color: #f0f8ff;border: 1px dotted black;border-radius: 0.25em;box-sizing: border-box;margin-bottom: 0.5em;}#sk-container-id-2 div.sk-estimator:hover {background-color: #d4ebff;}#sk-container-id-2 div.sk-parallel-item::after {content: \"\";width: 100%;border-bottom: 1px solid gray;flex-grow: 1;}#sk-container-id-2 div.sk-label:hover label.sk-toggleable__label {background-color: #d4ebff;}#sk-container-id-2 div.sk-serial::before {content: \"\";position: absolute;border-left: 1px solid gray;box-sizing: border-box;top: 0;bottom: 0;left: 50%;z-index: 0;}#sk-container-id-2 div.sk-serial {display: flex;flex-direction: column;align-items: center;background-color: white;padding-right: 0.2em;padding-left: 0.2em;position: relative;}#sk-container-id-2 div.sk-item {position: relative;z-index: 1;}#sk-container-id-2 div.sk-parallel {display: flex;align-items: stretch;justify-content: center;background-color: white;position: relative;}#sk-container-id-2 div.sk-item::before, #sk-container-id-2 div.sk-parallel-item::before {content: \"\";position: absolute;border-left: 1px solid gray;box-sizing: border-box;top: 0;bottom: 0;left: 50%;z-index: -1;}#sk-container-id-2 div.sk-parallel-item {display: flex;flex-direction: column;z-index: 1;position: relative;background-color: white;}#sk-container-id-2 div.sk-parallel-item:first-child::after {align-self: flex-end;width: 50%;}#sk-container-id-2 div.sk-parallel-item:last-child::after {align-self: flex-start;width: 50%;}#sk-container-id-2 div.sk-parallel-item:only-child::after {width: 0;}#sk-container-id-2 div.sk-dashed-wrapped {border: 1px dashed gray;margin: 0 0.4em 0.5em 0.4em;box-sizing: border-box;padding-bottom: 0.4em;background-color: white;}#sk-container-id-2 div.sk-label label {font-family: monospace;font-weight: bold;display: inline-block;line-height: 1.2em;}#sk-container-id-2 div.sk-label-container {text-align: center;}#sk-container-id-2 div.sk-container {/* jupyter's `normalize.less` sets `[hidden] { display: none; }` but bootstrap.min.css set `[hidden] { display: none !important; }` so we also need the `!important` here to be able to override the default hidden behavior on the sphinx rendered scikit-learn.org. See: https://github.com/scikit-learn/scikit-learn/issues/21755 */display: inline-block !important;position: relative;}#sk-container-id-2 div.sk-text-repr-fallback {display: none;}</style><div id=\"sk-container-id-2\" class=\"sk-top-container\"><div class=\"sk-text-repr-fallback\"><pre>LGBMRegressor(boosting_type=&#x27;goss&#x27;, cat_l2=9.94035092446645,\n",
       "              cat_smooth=1.4608920337755862, early_stopping_round=92,\n",
       "              feature_fraction=0.9283965812958562,\n",
       "              feature_fraction_bynode=0.5848546662622738, force_col_wise=False,\n",
       "              is_unbalance=True, lambda_l1=0.0018507030662794914,\n",
       "              lambda_l2=6.156325802144296e-07,\n",
       "              learning_rate=0.12089533133433601, max_bin=96,\n",
       "              max_cat_th...\n",
       "              max_depth=50, min_data_in_leaf=124, min_data_per_group=71,\n",
       "              min_gain_to_split=0.03241647793618352,\n",
       "              min_sum_hessian_in_leaf=7.199265950431342, n_estimator=1000,\n",
       "              n_estimators=91, num_leaves=436, other_rate=0.4662439412675177,\n",
       "              path_smooth=0.43557172372914066,\n",
       "              scale_pos_weight=1.886846809614612, top_rate=0.38740874375559464,\n",
       "              tweedie_variance_power=1.8911146456348016, verbose=-1)</pre><b>In a Jupyter environment, please rerun this cell to show the HTML representation or trust the notebook. <br />On GitHub, the HTML representation is unable to render, please try loading this page with nbviewer.org.</b></div><div class=\"sk-container\" hidden><div class=\"sk-item\"><div class=\"sk-estimator sk-toggleable\"><input class=\"sk-toggleable__control sk-hidden--visually\" id=\"sk-estimator-id-7\" type=\"checkbox\" checked><label for=\"sk-estimator-id-7\" class=\"sk-toggleable__label sk-toggleable__label-arrow\">LGBMRegressor</label><div class=\"sk-toggleable__content\"><pre>LGBMRegressor(boosting_type=&#x27;goss&#x27;, cat_l2=9.94035092446645,\n",
       "              cat_smooth=1.4608920337755862, early_stopping_round=92,\n",
       "              feature_fraction=0.9283965812958562,\n",
       "              feature_fraction_bynode=0.5848546662622738, force_col_wise=False,\n",
       "              is_unbalance=True, lambda_l1=0.0018507030662794914,\n",
       "              lambda_l2=6.156325802144296e-07,\n",
       "              learning_rate=0.12089533133433601, max_bin=96,\n",
       "              max_cat_th...\n",
       "              max_depth=50, min_data_in_leaf=124, min_data_per_group=71,\n",
       "              min_gain_to_split=0.03241647793618352,\n",
       "              min_sum_hessian_in_leaf=7.199265950431342, n_estimator=1000,\n",
       "              n_estimators=91, num_leaves=436, other_rate=0.4662439412675177,\n",
       "              path_smooth=0.43557172372914066,\n",
       "              scale_pos_weight=1.886846809614612, top_rate=0.38740874375559464,\n",
       "              tweedie_variance_power=1.8911146456348016, verbose=-1)</pre></div></div></div></div></div>"
      ],
      "text/plain": [
       "LGBMRegressor(boosting_type='goss', cat_l2=9.94035092446645,\n",
       "              cat_smooth=1.4608920337755862, early_stopping_round=92,\n",
       "              feature_fraction=0.9283965812958562,\n",
       "              feature_fraction_bynode=0.5848546662622738, force_col_wise=False,\n",
       "              is_unbalance=True, lambda_l1=0.0018507030662794914,\n",
       "              lambda_l2=6.156325802144296e-07,\n",
       "              learning_rate=0.12089533133433601, max_bin=96,\n",
       "              max_cat_th...\n",
       "              max_depth=50, min_data_in_leaf=124, min_data_per_group=71,\n",
       "              min_gain_to_split=0.03241647793618352,\n",
       "              min_sum_hessian_in_leaf=7.199265950431342, n_estimator=1000,\n",
       "              n_estimators=91, num_leaves=436, other_rate=0.4662439412675177,\n",
       "              path_smooth=0.43557172372914066,\n",
       "              scale_pos_weight=1.886846809614612, top_rate=0.38740874375559464,\n",
       "              tweedie_variance_power=1.8911146456348016, verbose=-1)"
      ]
     },
     "execution_count": 16,
     "metadata": {},
     "output_type": "execute_result"
    }
   ],
   "source": [
    "model = lgb.LGBMRegressor(**best_params,\n",
    "                          n_estimator = 1000,\n",
    "                          verbose=-1)\n",
    "\n",
    "model.fit(X_train, y_train,\n",
    "          eval_set=[(X_test, y_test), (X_train, y_train)],\n",
    "          eval_metric='mae')"
   ]
  },
  {
   "cell_type": "code",
   "execution_count": 17,
   "id": "c16cf067",
   "metadata": {
    "execution": {
     "iopub.execute_input": "2024-08-09T14:29:25.691463Z",
     "iopub.status.busy": "2024-08-09T14:29:25.691014Z",
     "iopub.status.idle": "2024-08-09T14:29:25.698187Z",
     "shell.execute_reply": "2024-08-09T14:29:25.696983Z"
    },
    "papermill": {
     "duration": 0.023567,
     "end_time": "2024-08-09T14:29:25.700898",
     "exception": false,
     "start_time": "2024-08-09T14:29:25.677331",
     "status": "completed"
    },
    "tags": []
   },
   "outputs": [],
   "source": [
    "def get_metrics(y_true, y_pred, name=\"model\"):\n",
    "  df = pd.DataFrame()\n",
    "\n",
    "  df.loc[\"MAE\", name] = metrics.mean_absolute_error(y_true, y_pred)\n",
    "  df.loc[\"RMSE\", name] = metrics.mean_squared_error(y_true, y_pred) ** 0.5\n",
    "  df.loc[\"R2\", name] = metrics.r2_score(y_true, y_pred)\n",
    "\n",
    "  return df.round(2)"
   ]
  },
  {
   "cell_type": "code",
   "execution_count": 18,
   "id": "7adf400b",
   "metadata": {
    "execution": {
     "iopub.execute_input": "2024-08-09T14:29:25.726956Z",
     "iopub.status.busy": "2024-08-09T14:29:25.726523Z",
     "iopub.status.idle": "2024-08-09T14:29:43.203187Z",
     "shell.execute_reply": "2024-08-09T14:29:43.201803Z"
    },
    "papermill": {
     "duration": 17.493043,
     "end_time": "2024-08-09T14:29:43.206096",
     "exception": false,
     "start_time": "2024-08-09T14:29:25.713053",
     "status": "completed"
    },
    "tags": []
   },
   "outputs": [
    {
     "data": {
      "text/html": [
       "<div>\n",
       "<style scoped>\n",
       "    .dataframe tbody tr th:only-of-type {\n",
       "        vertical-align: middle;\n",
       "    }\n",
       "\n",
       "    .dataframe tbody tr th {\n",
       "        vertical-align: top;\n",
       "    }\n",
       "\n",
       "    .dataframe thead th {\n",
       "        text-align: right;\n",
       "    }\n",
       "</style>\n",
       "<table border=\"1\" class=\"dataframe\">\n",
       "  <thead>\n",
       "    <tr style=\"text-align: right;\">\n",
       "      <th></th>\n",
       "      <th>train</th>\n",
       "      <th>test</th>\n",
       "    </tr>\n",
       "  </thead>\n",
       "  <tbody>\n",
       "    <tr>\n",
       "      <th>MAE</th>\n",
       "      <td>0.30</td>\n",
       "      <td>0.30</td>\n",
       "    </tr>\n",
       "    <tr>\n",
       "      <th>RMSE</th>\n",
       "      <td>0.39</td>\n",
       "      <td>0.40</td>\n",
       "    </tr>\n",
       "    <tr>\n",
       "      <th>R2</th>\n",
       "      <td>0.70</td>\n",
       "      <td>0.69</td>\n",
       "    </tr>\n",
       "  </tbody>\n",
       "</table>\n",
       "</div>"
      ],
      "text/plain": [
       "      train  test\n",
       "MAE    0.30  0.30\n",
       "RMSE   0.39  0.40\n",
       "R2     0.70  0.69"
      ]
     },
     "execution_count": 18,
     "metadata": {},
     "output_type": "execute_result"
    }
   ],
   "source": [
    "all_metrics = pd.DataFrame()\n",
    "\n",
    "all_metrics[\"train\"] = get_metrics(y_train, model.predict(X_train))\n",
    "all_metrics[\"test\"] = get_metrics(y_test, model.predict(X_test))\n",
    "\n",
    "all_metrics"
   ]
  },
  {
   "cell_type": "code",
   "execution_count": 19,
   "id": "8c169fc6",
   "metadata": {
    "execution": {
     "iopub.execute_input": "2024-08-09T14:29:43.233158Z",
     "iopub.status.busy": "2024-08-09T14:29:43.232755Z",
     "iopub.status.idle": "2024-08-09T14:29:56.522283Z",
     "shell.execute_reply": "2024-08-09T14:29:56.520876Z"
    },
    "papermill": {
     "duration": 13.306353,
     "end_time": "2024-08-09T14:29:56.525121",
     "exception": false,
     "start_time": "2024-08-09T14:29:43.218768",
     "status": "completed"
    },
    "tags": []
   },
   "outputs": [
    {
     "data": {
      "text/html": [
       "        <script type=\"text/javascript\">\n",
       "        window.PlotlyConfig = {MathJaxConfig: 'local'};\n",
       "        if (window.MathJax && window.MathJax.Hub && window.MathJax.Hub.Config) {window.MathJax.Hub.Config({SVG: {font: \"STIX-Web\"}});}\n",
       "        if (typeof require !== 'undefined') {\n",
       "        require.undef(\"plotly\");\n",
       "        requirejs.config({\n",
       "            paths: {\n",
       "                'plotly': ['https://cdn.plot.ly/plotly-2.27.0.min']\n",
       "            }\n",
       "        });\n",
       "        require(['plotly'], function(Plotly) {\n",
       "            window._Plotly = Plotly;\n",
       "        });\n",
       "        }\n",
       "        </script>\n",
       "        "
      ]
     },
     "metadata": {},
     "output_type": "display_data"
    },
    {
     "data": {
      "text/html": [
       "<div>                            <div id=\"ac7ae6b2-e540-4afd-9700-107d0caf2627\" class=\"plotly-graph-div\" style=\"height:525px; width:100%;\"></div>            <script type=\"text/javascript\">                require([\"plotly\"], function(Plotly) {                    window.PLOTLYENV=window.PLOTLYENV || {};                                    if (document.getElementById(\"ac7ae6b2-e540-4afd-9700-107d0caf2627\")) {                    Plotly.newPlot(                        \"ac7ae6b2-e540-4afd-9700-107d0caf2627\",                        [{\"cliponaxis\":false,\"hovertemplate\":[\"lambda_l1 (FloatDistribution): 2.272162076838233e-05\\u003cextra\\u003e\\u003c\\u002fextra\\u003e\",\"is_unbalance (CategoricalDistribution): 0.00020012847013426934\\u003cextra\\u003e\\u003c\\u002fextra\\u003e\",\"force_col_wise (CategoricalDistribution): 0.00047923451414579895\\u003cextra\\u003e\\u003c\\u002fextra\\u003e\",\"num_leaves (IntDistribution): 0.002205833699417566\\u003cextra\\u003e\\u003c\\u002fextra\\u003e\",\"max_cat_trees (IntDistribution): 0.002649124430957311\\u003cextra\\u003e\\u003c\\u002fextra\\u003e\",\"min_data_per_group (IntDistribution): 0.0036292897219579023\\u003cextra\\u003e\\u003c\\u002fextra\\u003e\",\"min_sum_hessian_in_leaf (FloatDistribution): 0.0037414419796197715\\u003cextra\\u003e\\u003c\\u002fextra\\u003e\",\"n_estimators (IntDistribution): 0.0038520489530817098\\u003cextra\\u003e\\u003c\\u002fextra\\u003e\",\"min_gain_to_split (FloatDistribution): 0.0066884097984893495\\u003cextra\\u003e\\u003c\\u002fextra\\u003e\",\"max_depth (IntDistribution): 0.006891747820934487\\u003cextra\\u003e\\u003c\\u002fextra\\u003e\",\"early_stopping_round (IntDistribution): 0.008867165324172503\\u003cextra\\u003e\\u003c\\u002fextra\\u003e\",\"max_cat_threshold (IntDistribution): 0.010642523727364493\\u003cextra\\u003e\\u003c\\u002fextra\\u003e\",\"boosting_type (CategoricalDistribution): 0.012203990350108222\\u003cextra\\u003e\\u003c\\u002fextra\\u003e\",\"scale_pos_weight (FloatDistribution): 0.013708463706245098\\u003cextra\\u003e\\u003c\\u002fextra\\u003e\",\"feature_fraction_bynode (FloatDistribution): 0.01789401651497614\\u003cextra\\u003e\\u003c\\u002fextra\\u003e\",\"lambda_l2 (FloatDistribution): 0.022225833108063427\\u003cextra\\u003e\\u003c\\u002fextra\\u003e\",\"tweedie_variance_power (FloatDistribution): 0.027461450977052597\\u003cextra\\u003e\\u003c\\u002fextra\\u003e\",\"cat_l2 (FloatDistribution): 0.029757447772521015\\u003cextra\\u003e\\u003c\\u002fextra\\u003e\",\"max_cat_to_onehot (IntDistribution): 0.03237303377277498\\u003cextra\\u003e\\u003c\\u002fextra\\u003e\",\"path_smooth (FloatDistribution): 0.03415725470329346\\u003cextra\\u003e\\u003c\\u002fextra\\u003e\",\"feature_fraction (FloatDistribution): 0.0758505864379265\\u003cextra\\u003e\\u003c\\u002fextra\\u003e\",\"cat_smooth (FloatDistribution): 0.0762084852512165\\u003cextra\\u003e\\u003c\\u002fextra\\u003e\",\"max_bin (IntDistribution): 0.0855222542774386\\u003cextra\\u003e\\u003c\\u002fextra\\u003e\",\"top_rate (FloatDistribution): 0.11638698375867791\\u003cextra\\u003e\\u003c\\u002fextra\\u003e\",\"learning_rate (FloatDistribution): 0.1963939238301868\\u003cextra\\u003e\\u003c\\u002fextra\\u003e\",\"min_data_in_leaf (IntDistribution): 0.20998660547847509\\u003cextra\\u003e\\u003c\\u002fextra\\u003e\"],\"name\":\"Objective Value 0\",\"orientation\":\"h\",\"text\":[\"\\u003c0.01\",\"\\u003c0.01\",\"\\u003c0.01\",\"\\u003c0.01\",\"\\u003c0.01\",\"\\u003c0.01\",\"\\u003c0.01\",\"\\u003c0.01\",\"\\u003c0.01\",\"\\u003c0.01\",\"\\u003c0.01\",\"0.01\",\"0.01\",\"0.01\",\"0.02\",\"0.02\",\"0.03\",\"0.03\",\"0.03\",\"0.03\",\"0.08\",\"0.08\",\"0.09\",\"0.12\",\"0.20\",\"0.21\"],\"textposition\":\"outside\",\"x\":[0.00002272162076838233,0.00020012847013426934,0.00047923451414579895,0.002205833699417566,0.002649124430957311,0.0036292897219579023,0.0037414419796197715,0.0038520489530817098,0.0066884097984893495,0.006891747820934487,0.008867165324172503,0.010642523727364493,0.012203990350108222,0.013708463706245098,0.01789401651497614,0.022225833108063427,0.027461450977052597,0.029757447772521015,0.03237303377277498,0.03415725470329346,0.0758505864379265,0.0762084852512165,0.0855222542774386,0.11638698375867791,0.1963939238301868,0.20998660547847509],\"y\":[\"lambda_l1\",\"is_unbalance\",\"force_col_wise\",\"num_leaves\",\"max_cat_trees\",\"min_data_per_group\",\"min_sum_hessian_in_leaf\",\"n_estimators\",\"min_gain_to_split\",\"max_depth\",\"early_stopping_round\",\"max_cat_threshold\",\"boosting_type\",\"scale_pos_weight\",\"feature_fraction_bynode\",\"lambda_l2\",\"tweedie_variance_power\",\"cat_l2\",\"max_cat_to_onehot\",\"path_smooth\",\"feature_fraction\",\"cat_smooth\",\"max_bin\",\"top_rate\",\"learning_rate\",\"min_data_in_leaf\"],\"type\":\"bar\"},{\"cliponaxis\":false,\"hovertemplate\":[\"lambda_l1 (FloatDistribution): 2.575430459631141e-05\\u003cextra\\u003e\\u003c\\u002fextra\\u003e\",\"force_col_wise (CategoricalDistribution): 0.00017503164445997342\\u003cextra\\u003e\\u003c\\u002fextra\\u003e\",\"is_unbalance (CategoricalDistribution): 0.00027619320676816486\\u003cextra\\u003e\\u003c\\u002fextra\\u003e\",\"min_data_per_group (IntDistribution): 0.0007860830138925318\\u003cextra\\u003e\\u003c\\u002fextra\\u003e\",\"n_estimators (IntDistribution): 0.0027337610010640615\\u003cextra\\u003e\\u003c\\u002fextra\\u003e\",\"min_sum_hessian_in_leaf (FloatDistribution): 0.0060316723539145245\\u003cextra\\u003e\\u003c\\u002fextra\\u003e\",\"lambda_l2 (FloatDistribution): 0.006211912019970982\\u003cextra\\u003e\\u003c\\u002fextra\\u003e\",\"max_depth (IntDistribution): 0.006471233000217653\\u003cextra\\u003e\\u003c\\u002fextra\\u003e\",\"num_leaves (IntDistribution): 0.0070025024697684245\\u003cextra\\u003e\\u003c\\u002fextra\\u003e\",\"min_gain_to_split (FloatDistribution): 0.007516155011153346\\u003cextra\\u003e\\u003c\\u002fextra\\u003e\",\"cat_l2 (FloatDistribution): 0.007944254713194446\\u003cextra\\u003e\\u003c\\u002fextra\\u003e\",\"max_cat_trees (IntDistribution): 0.008201469917880204\\u003cextra\\u003e\\u003c\\u002fextra\\u003e\",\"scale_pos_weight (FloatDistribution): 0.010891150904885225\\u003cextra\\u003e\\u003c\\u002fextra\\u003e\",\"max_cat_threshold (IntDistribution): 0.012182227646733186\\u003cextra\\u003e\\u003c\\u002fextra\\u003e\",\"boosting_type (CategoricalDistribution): 0.025100659090914582\\u003cextra\\u003e\\u003c\\u002fextra\\u003e\",\"max_cat_to_onehot (IntDistribution): 0.026915322381392007\\u003cextra\\u003e\\u003c\\u002fextra\\u003e\",\"tweedie_variance_power (FloatDistribution): 0.030435121915740587\\u003cextra\\u003e\\u003c\\u002fextra\\u003e\",\"path_smooth (FloatDistribution): 0.030475528535051605\\u003cextra\\u003e\\u003c\\u002fextra\\u003e\",\"early_stopping_round (IntDistribution): 0.039563491426334585\\u003cextra\\u003e\\u003c\\u002fextra\\u003e\",\"feature_fraction (FloatDistribution): 0.04077020456780862\\u003cextra\\u003e\\u003c\\u002fextra\\u003e\",\"feature_fraction_bynode (FloatDistribution): 0.052365057985688\\u003cextra\\u003e\\u003c\\u002fextra\\u003e\",\"top_rate (FloatDistribution): 0.07748974894557496\\u003cextra\\u003e\\u003c\\u002fextra\\u003e\",\"max_bin (IntDistribution): 0.08032766137938481\\u003cextra\\u003e\\u003c\\u002fextra\\u003e\",\"cat_smooth (FloatDistribution): 0.08070962839732362\\u003cextra\\u003e\\u003c\\u002fextra\\u003e\",\"min_data_in_leaf (IntDistribution): 0.16506246873839459\\u003cextra\\u003e\\u003c\\u002fextra\\u003e\",\"learning_rate (FloatDistribution): 0.27433570542789293\\u003cextra\\u003e\\u003c\\u002fextra\\u003e\"],\"name\":\"Objective Value 1\",\"orientation\":\"h\",\"text\":[\"\\u003c0.01\",\"\\u003c0.01\",\"\\u003c0.01\",\"\\u003c0.01\",\"\\u003c0.01\",\"\\u003c0.01\",\"\\u003c0.01\",\"\\u003c0.01\",\"\\u003c0.01\",\"\\u003c0.01\",\"\\u003c0.01\",\"\\u003c0.01\",\"0.01\",\"0.01\",\"0.03\",\"0.03\",\"0.03\",\"0.03\",\"0.04\",\"0.04\",\"0.05\",\"0.08\",\"0.08\",\"0.08\",\"0.17\",\"0.27\"],\"textposition\":\"outside\",\"x\":[0.00002575430459631141,0.00017503164445997342,0.00027619320676816486,0.0007860830138925318,0.0027337610010640615,0.0060316723539145245,0.006211912019970982,0.006471233000217653,0.0070025024697684245,0.007516155011153346,0.007944254713194446,0.008201469917880204,0.010891150904885225,0.012182227646733186,0.025100659090914582,0.026915322381392007,0.030435121915740587,0.030475528535051605,0.039563491426334585,0.04077020456780862,0.052365057985688,0.07748974894557496,0.08032766137938481,0.08070962839732362,0.16506246873839459,0.27433570542789293],\"y\":[\"lambda_l1\",\"force_col_wise\",\"is_unbalance\",\"min_data_per_group\",\"n_estimators\",\"min_sum_hessian_in_leaf\",\"lambda_l2\",\"max_depth\",\"num_leaves\",\"min_gain_to_split\",\"cat_l2\",\"max_cat_trees\",\"scale_pos_weight\",\"max_cat_threshold\",\"boosting_type\",\"max_cat_to_onehot\",\"tweedie_variance_power\",\"path_smooth\",\"early_stopping_round\",\"feature_fraction\",\"feature_fraction_bynode\",\"top_rate\",\"max_bin\",\"cat_smooth\",\"min_data_in_leaf\",\"learning_rate\"],\"type\":\"bar\"},{\"cliponaxis\":false,\"hovertemplate\":[\"lambda_l1 (FloatDistribution): 7.859346478499139e-05\\u003cextra\\u003e\\u003c\\u002fextra\\u003e\",\"cat_l2 (FloatDistribution): 0.00019553950218153138\\u003cextra\\u003e\\u003c\\u002fextra\\u003e\",\"force_col_wise (CategoricalDistribution): 0.00032853529960708905\\u003cextra\\u003e\\u003c\\u002fextra\\u003e\",\"is_unbalance (CategoricalDistribution): 0.00044736338583030867\\u003cextra\\u003e\\u003c\\u002fextra\\u003e\",\"max_depth (IntDistribution): 0.0019937470998873177\\u003cextra\\u003e\\u003c\\u002fextra\\u003e\",\"num_leaves (IntDistribution): 0.0021746560411577483\\u003cextra\\u003e\\u003c\\u002fextra\\u003e\",\"lambda_l2 (FloatDistribution): 0.002969095541279332\\u003cextra\\u003e\\u003c\\u002fextra\\u003e\",\"max_cat_trees (IntDistribution): 0.004511724700807791\\u003cextra\\u003e\\u003c\\u002fextra\\u003e\",\"n_estimators (IntDistribution): 0.004700774286130836\\u003cextra\\u003e\\u003c\\u002fextra\\u003e\",\"min_sum_hessian_in_leaf (FloatDistribution): 0.0051091153921872245\\u003cextra\\u003e\\u003c\\u002fextra\\u003e\",\"scale_pos_weight (FloatDistribution): 0.005821212949780293\\u003cextra\\u003e\\u003c\\u002fextra\\u003e\",\"min_gain_to_split (FloatDistribution): 0.007869204306840892\\u003cextra\\u003e\\u003c\\u002fextra\\u003e\",\"max_cat_to_onehot (IntDistribution): 0.00862026400576112\\u003cextra\\u003e\\u003c\\u002fextra\\u003e\",\"min_data_per_group (IntDistribution): 0.012048482616017604\\u003cextra\\u003e\\u003c\\u002fextra\\u003e\",\"early_stopping_round (IntDistribution): 0.01654601449034914\\u003cextra\\u003e\\u003c\\u002fextra\\u003e\",\"boosting_type (CategoricalDistribution): 0.017985095128472607\\u003cextra\\u003e\\u003c\\u002fextra\\u003e\",\"max_cat_threshold (IntDistribution): 0.01921069208972627\\u003cextra\\u003e\\u003c\\u002fextra\\u003e\",\"feature_fraction (FloatDistribution): 0.026540622671932083\\u003cextra\\u003e\\u003c\\u002fextra\\u003e\",\"feature_fraction_bynode (FloatDistribution): 0.027480835556138103\\u003cextra\\u003e\\u003c\\u002fextra\\u003e\",\"path_smooth (FloatDistribution): 0.028829173140303675\\u003cextra\\u003e\\u003c\\u002fextra\\u003e\",\"tweedie_variance_power (FloatDistribution): 0.061633294244059875\\u003cextra\\u003e\\u003c\\u002fextra\\u003e\",\"cat_smooth (FloatDistribution): 0.06453359536790773\\u003cextra\\u003e\\u003c\\u002fextra\\u003e\",\"top_rate (FloatDistribution): 0.11782551607875998\\u003cextra\\u003e\\u003c\\u002fextra\\u003e\",\"max_bin (IntDistribution): 0.1320915296045358\\u003cextra\\u003e\\u003c\\u002fextra\\u003e\",\"learning_rate (FloatDistribution): 0.20226040695631844\\u003cextra\\u003e\\u003c\\u002fextra\\u003e\",\"min_data_in_leaf (IntDistribution): 0.22819491607924253\\u003cextra\\u003e\\u003c\\u002fextra\\u003e\"],\"name\":\"Objective Value 2\",\"orientation\":\"h\",\"text\":[\"\\u003c0.01\",\"\\u003c0.01\",\"\\u003c0.01\",\"\\u003c0.01\",\"\\u003c0.01\",\"\\u003c0.01\",\"\\u003c0.01\",\"\\u003c0.01\",\"\\u003c0.01\",\"\\u003c0.01\",\"\\u003c0.01\",\"\\u003c0.01\",\"\\u003c0.01\",\"0.01\",\"0.02\",\"0.02\",\"0.02\",\"0.03\",\"0.03\",\"0.03\",\"0.06\",\"0.06\",\"0.12\",\"0.13\",\"0.20\",\"0.23\"],\"textposition\":\"outside\",\"x\":[0.00007859346478499139,0.00019553950218153138,0.00032853529960708905,0.00044736338583030867,0.0019937470998873177,0.0021746560411577483,0.002969095541279332,0.004511724700807791,0.004700774286130836,0.0051091153921872245,0.005821212949780293,0.007869204306840892,0.00862026400576112,0.012048482616017604,0.01654601449034914,0.017985095128472607,0.01921069208972627,0.026540622671932083,0.027480835556138103,0.028829173140303675,0.061633294244059875,0.06453359536790773,0.11782551607875998,0.1320915296045358,0.20226040695631844,0.22819491607924253],\"y\":[\"lambda_l1\",\"cat_l2\",\"force_col_wise\",\"is_unbalance\",\"max_depth\",\"num_leaves\",\"lambda_l2\",\"max_cat_trees\",\"n_estimators\",\"min_sum_hessian_in_leaf\",\"scale_pos_weight\",\"min_gain_to_split\",\"max_cat_to_onehot\",\"min_data_per_group\",\"early_stopping_round\",\"boosting_type\",\"max_cat_threshold\",\"feature_fraction\",\"feature_fraction_bynode\",\"path_smooth\",\"tweedie_variance_power\",\"cat_smooth\",\"top_rate\",\"max_bin\",\"learning_rate\",\"min_data_in_leaf\"],\"type\":\"bar\"}],                        {\"title\":{\"text\":\"Hyperparameter Importances\"},\"xaxis\":{\"title\":{\"text\":\"Hyperparameter Importance\"}},\"yaxis\":{\"title\":{\"text\":\"Hyperparameter\"}},\"template\":{\"data\":{\"histogram2dcontour\":[{\"type\":\"histogram2dcontour\",\"colorbar\":{\"outlinewidth\":0,\"ticks\":\"\"},\"colorscale\":[[0.0,\"#0d0887\"],[0.1111111111111111,\"#46039f\"],[0.2222222222222222,\"#7201a8\"],[0.3333333333333333,\"#9c179e\"],[0.4444444444444444,\"#bd3786\"],[0.5555555555555556,\"#d8576b\"],[0.6666666666666666,\"#ed7953\"],[0.7777777777777778,\"#fb9f3a\"],[0.8888888888888888,\"#fdca26\"],[1.0,\"#f0f921\"]]}],\"choropleth\":[{\"type\":\"choropleth\",\"colorbar\":{\"outlinewidth\":0,\"ticks\":\"\"}}],\"histogram2d\":[{\"type\":\"histogram2d\",\"colorbar\":{\"outlinewidth\":0,\"ticks\":\"\"},\"colorscale\":[[0.0,\"#0d0887\"],[0.1111111111111111,\"#46039f\"],[0.2222222222222222,\"#7201a8\"],[0.3333333333333333,\"#9c179e\"],[0.4444444444444444,\"#bd3786\"],[0.5555555555555556,\"#d8576b\"],[0.6666666666666666,\"#ed7953\"],[0.7777777777777778,\"#fb9f3a\"],[0.8888888888888888,\"#fdca26\"],[1.0,\"#f0f921\"]]}],\"heatmap\":[{\"type\":\"heatmap\",\"colorbar\":{\"outlinewidth\":0,\"ticks\":\"\"},\"colorscale\":[[0.0,\"#0d0887\"],[0.1111111111111111,\"#46039f\"],[0.2222222222222222,\"#7201a8\"],[0.3333333333333333,\"#9c179e\"],[0.4444444444444444,\"#bd3786\"],[0.5555555555555556,\"#d8576b\"],[0.6666666666666666,\"#ed7953\"],[0.7777777777777778,\"#fb9f3a\"],[0.8888888888888888,\"#fdca26\"],[1.0,\"#f0f921\"]]}],\"heatmapgl\":[{\"type\":\"heatmapgl\",\"colorbar\":{\"outlinewidth\":0,\"ticks\":\"\"},\"colorscale\":[[0.0,\"#0d0887\"],[0.1111111111111111,\"#46039f\"],[0.2222222222222222,\"#7201a8\"],[0.3333333333333333,\"#9c179e\"],[0.4444444444444444,\"#bd3786\"],[0.5555555555555556,\"#d8576b\"],[0.6666666666666666,\"#ed7953\"],[0.7777777777777778,\"#fb9f3a\"],[0.8888888888888888,\"#fdca26\"],[1.0,\"#f0f921\"]]}],\"contourcarpet\":[{\"type\":\"contourcarpet\",\"colorbar\":{\"outlinewidth\":0,\"ticks\":\"\"}}],\"contour\":[{\"type\":\"contour\",\"colorbar\":{\"outlinewidth\":0,\"ticks\":\"\"},\"colorscale\":[[0.0,\"#0d0887\"],[0.1111111111111111,\"#46039f\"],[0.2222222222222222,\"#7201a8\"],[0.3333333333333333,\"#9c179e\"],[0.4444444444444444,\"#bd3786\"],[0.5555555555555556,\"#d8576b\"],[0.6666666666666666,\"#ed7953\"],[0.7777777777777778,\"#fb9f3a\"],[0.8888888888888888,\"#fdca26\"],[1.0,\"#f0f921\"]]}],\"surface\":[{\"type\":\"surface\",\"colorbar\":{\"outlinewidth\":0,\"ticks\":\"\"},\"colorscale\":[[0.0,\"#0d0887\"],[0.1111111111111111,\"#46039f\"],[0.2222222222222222,\"#7201a8\"],[0.3333333333333333,\"#9c179e\"],[0.4444444444444444,\"#bd3786\"],[0.5555555555555556,\"#d8576b\"],[0.6666666666666666,\"#ed7953\"],[0.7777777777777778,\"#fb9f3a\"],[0.8888888888888888,\"#fdca26\"],[1.0,\"#f0f921\"]]}],\"mesh3d\":[{\"type\":\"mesh3d\",\"colorbar\":{\"outlinewidth\":0,\"ticks\":\"\"}}],\"scatter\":[{\"fillpattern\":{\"fillmode\":\"overlay\",\"size\":10,\"solidity\":0.2},\"type\":\"scatter\"}],\"parcoords\":[{\"type\":\"parcoords\",\"line\":{\"colorbar\":{\"outlinewidth\":0,\"ticks\":\"\"}}}],\"scatterpolargl\":[{\"type\":\"scatterpolargl\",\"marker\":{\"colorbar\":{\"outlinewidth\":0,\"ticks\":\"\"}}}],\"bar\":[{\"error_x\":{\"color\":\"#2a3f5f\"},\"error_y\":{\"color\":\"#2a3f5f\"},\"marker\":{\"line\":{\"color\":\"#E5ECF6\",\"width\":0.5},\"pattern\":{\"fillmode\":\"overlay\",\"size\":10,\"solidity\":0.2}},\"type\":\"bar\"}],\"scattergeo\":[{\"type\":\"scattergeo\",\"marker\":{\"colorbar\":{\"outlinewidth\":0,\"ticks\":\"\"}}}],\"scatterpolar\":[{\"type\":\"scatterpolar\",\"marker\":{\"colorbar\":{\"outlinewidth\":0,\"ticks\":\"\"}}}],\"histogram\":[{\"marker\":{\"pattern\":{\"fillmode\":\"overlay\",\"size\":10,\"solidity\":0.2}},\"type\":\"histogram\"}],\"scattergl\":[{\"type\":\"scattergl\",\"marker\":{\"colorbar\":{\"outlinewidth\":0,\"ticks\":\"\"}}}],\"scatter3d\":[{\"type\":\"scatter3d\",\"line\":{\"colorbar\":{\"outlinewidth\":0,\"ticks\":\"\"}},\"marker\":{\"colorbar\":{\"outlinewidth\":0,\"ticks\":\"\"}}}],\"scattermapbox\":[{\"type\":\"scattermapbox\",\"marker\":{\"colorbar\":{\"outlinewidth\":0,\"ticks\":\"\"}}}],\"scatterternary\":[{\"type\":\"scatterternary\",\"marker\":{\"colorbar\":{\"outlinewidth\":0,\"ticks\":\"\"}}}],\"scattercarpet\":[{\"type\":\"scattercarpet\",\"marker\":{\"colorbar\":{\"outlinewidth\":0,\"ticks\":\"\"}}}],\"carpet\":[{\"aaxis\":{\"endlinecolor\":\"#2a3f5f\",\"gridcolor\":\"white\",\"linecolor\":\"white\",\"minorgridcolor\":\"white\",\"startlinecolor\":\"#2a3f5f\"},\"baxis\":{\"endlinecolor\":\"#2a3f5f\",\"gridcolor\":\"white\",\"linecolor\":\"white\",\"minorgridcolor\":\"white\",\"startlinecolor\":\"#2a3f5f\"},\"type\":\"carpet\"}],\"table\":[{\"cells\":{\"fill\":{\"color\":\"#EBF0F8\"},\"line\":{\"color\":\"white\"}},\"header\":{\"fill\":{\"color\":\"#C8D4E3\"},\"line\":{\"color\":\"white\"}},\"type\":\"table\"}],\"barpolar\":[{\"marker\":{\"line\":{\"color\":\"#E5ECF6\",\"width\":0.5},\"pattern\":{\"fillmode\":\"overlay\",\"size\":10,\"solidity\":0.2}},\"type\":\"barpolar\"}],\"pie\":[{\"automargin\":true,\"type\":\"pie\"}]},\"layout\":{\"autotypenumbers\":\"strict\",\"colorway\":[\"#636efa\",\"#EF553B\",\"#00cc96\",\"#ab63fa\",\"#FFA15A\",\"#19d3f3\",\"#FF6692\",\"#B6E880\",\"#FF97FF\",\"#FECB52\"],\"font\":{\"color\":\"#2a3f5f\"},\"hovermode\":\"closest\",\"hoverlabel\":{\"align\":\"left\"},\"paper_bgcolor\":\"white\",\"plot_bgcolor\":\"#E5ECF6\",\"polar\":{\"bgcolor\":\"#E5ECF6\",\"angularaxis\":{\"gridcolor\":\"white\",\"linecolor\":\"white\",\"ticks\":\"\"},\"radialaxis\":{\"gridcolor\":\"white\",\"linecolor\":\"white\",\"ticks\":\"\"}},\"ternary\":{\"bgcolor\":\"#E5ECF6\",\"aaxis\":{\"gridcolor\":\"white\",\"linecolor\":\"white\",\"ticks\":\"\"},\"baxis\":{\"gridcolor\":\"white\",\"linecolor\":\"white\",\"ticks\":\"\"},\"caxis\":{\"gridcolor\":\"white\",\"linecolor\":\"white\",\"ticks\":\"\"}},\"coloraxis\":{\"colorbar\":{\"outlinewidth\":0,\"ticks\":\"\"}},\"colorscale\":{\"sequential\":[[0.0,\"#0d0887\"],[0.1111111111111111,\"#46039f\"],[0.2222222222222222,\"#7201a8\"],[0.3333333333333333,\"#9c179e\"],[0.4444444444444444,\"#bd3786\"],[0.5555555555555556,\"#d8576b\"],[0.6666666666666666,\"#ed7953\"],[0.7777777777777778,\"#fb9f3a\"],[0.8888888888888888,\"#fdca26\"],[1.0,\"#f0f921\"]],\"sequentialminus\":[[0.0,\"#0d0887\"],[0.1111111111111111,\"#46039f\"],[0.2222222222222222,\"#7201a8\"],[0.3333333333333333,\"#9c179e\"],[0.4444444444444444,\"#bd3786\"],[0.5555555555555556,\"#d8576b\"],[0.6666666666666666,\"#ed7953\"],[0.7777777777777778,\"#fb9f3a\"],[0.8888888888888888,\"#fdca26\"],[1.0,\"#f0f921\"]],\"diverging\":[[0,\"#8e0152\"],[0.1,\"#c51b7d\"],[0.2,\"#de77ae\"],[0.3,\"#f1b6da\"],[0.4,\"#fde0ef\"],[0.5,\"#f7f7f7\"],[0.6,\"#e6f5d0\"],[0.7,\"#b8e186\"],[0.8,\"#7fbc41\"],[0.9,\"#4d9221\"],[1,\"#276419\"]]},\"xaxis\":{\"gridcolor\":\"white\",\"linecolor\":\"white\",\"ticks\":\"\",\"title\":{\"standoff\":15},\"zerolinecolor\":\"white\",\"automargin\":true,\"zerolinewidth\":2},\"yaxis\":{\"gridcolor\":\"white\",\"linecolor\":\"white\",\"ticks\":\"\",\"title\":{\"standoff\":15},\"zerolinecolor\":\"white\",\"automargin\":true,\"zerolinewidth\":2},\"scene\":{\"xaxis\":{\"backgroundcolor\":\"#E5ECF6\",\"gridcolor\":\"white\",\"linecolor\":\"white\",\"showbackground\":true,\"ticks\":\"\",\"zerolinecolor\":\"white\",\"gridwidth\":2},\"yaxis\":{\"backgroundcolor\":\"#E5ECF6\",\"gridcolor\":\"white\",\"linecolor\":\"white\",\"showbackground\":true,\"ticks\":\"\",\"zerolinecolor\":\"white\",\"gridwidth\":2},\"zaxis\":{\"backgroundcolor\":\"#E5ECF6\",\"gridcolor\":\"white\",\"linecolor\":\"white\",\"showbackground\":true,\"ticks\":\"\",\"zerolinecolor\":\"white\",\"gridwidth\":2}},\"shapedefaults\":{\"line\":{\"color\":\"#2a3f5f\"}},\"annotationdefaults\":{\"arrowcolor\":\"#2a3f5f\",\"arrowhead\":0,\"arrowwidth\":1},\"geo\":{\"bgcolor\":\"white\",\"landcolor\":\"#E5ECF6\",\"subunitcolor\":\"white\",\"showland\":true,\"showlakes\":true,\"lakecolor\":\"white\"},\"title\":{\"x\":0.05},\"mapbox\":{\"style\":\"light\"}}}},                        {\"responsive\": true}                    ).then(function(){\n",
       "                            \n",
       "var gd = document.getElementById('ac7ae6b2-e540-4afd-9700-107d0caf2627');\n",
       "var x = new MutationObserver(function (mutations, observer) {{\n",
       "        var display = window.getComputedStyle(gd).display;\n",
       "        if (!display || display === 'none') {{\n",
       "            console.log([gd, 'removed!']);\n",
       "            Plotly.purge(gd);\n",
       "            observer.disconnect();\n",
       "        }}\n",
       "}});\n",
       "\n",
       "// Listen for the removal of the full notebook cells\n",
       "var notebookContainer = gd.closest('#notebook-container');\n",
       "if (notebookContainer) {{\n",
       "    x.observe(notebookContainer, {childList: true});\n",
       "}}\n",
       "\n",
       "// Listen for the clearing of the current output cell\n",
       "var outputEl = gd.closest('.output');\n",
       "if (outputEl) {{\n",
       "    x.observe(outputEl, {childList: true});\n",
       "}}\n",
       "\n",
       "                        })                };                });            </script>        </div>"
      ]
     },
     "metadata": {},
     "output_type": "display_data"
    }
   ],
   "source": [
    "optuna.visualization.plot_param_importances(study)"
   ]
  },
  {
   "cell_type": "code",
   "execution_count": 20,
   "id": "73b29dd7",
   "metadata": {
    "execution": {
     "iopub.execute_input": "2024-08-09T14:29:56.553530Z",
     "iopub.status.busy": "2024-08-09T14:29:56.553086Z",
     "iopub.status.idle": "2024-08-09T14:29:56.984609Z",
     "shell.execute_reply": "2024-08-09T14:29:56.983190Z"
    },
    "papermill": {
     "duration": 0.448985,
     "end_time": "2024-08-09T14:29:56.987597",
     "exception": false,
     "start_time": "2024-08-09T14:29:56.538612",
     "status": "completed"
    },
    "tags": []
   },
   "outputs": [
    {
     "data": {
      "text/plain": [
       "<Axes: title={'center': 'Feature importance'}, xlabel='Feature importance', ylabel='Features'>"
      ]
     },
     "execution_count": 20,
     "metadata": {},
     "output_type": "execute_result"
    },
    {
     "data": {
      "image/png": "[encoded data removed]",
      "text/plain": [
       "<Figure size 700x300 with 1 Axes>"
      ]
     },
     "metadata": {},
     "output_type": "display_data"
    }
   ],
   "source": [
    "lgb.plot_importance(model, figsize=(7,3))"
   ]
  },
  {
   "cell_type": "code",
   "execution_count": 21,
   "id": "bb32be8f",
   "metadata": {
    "execution": {
     "iopub.execute_input": "2024-08-09T14:29:57.017209Z",
     "iopub.status.busy": "2024-08-09T14:29:57.016804Z",
     "iopub.status.idle": "2024-08-09T14:29:57.394758Z",
     "shell.execute_reply": "2024-08-09T14:29:57.393632Z"
    },
    "papermill": {
     "duration": 0.396317,
     "end_time": "2024-08-09T14:29:57.397784",
     "exception": false,
     "start_time": "2024-08-09T14:29:57.001467",
     "status": "completed"
    },
    "tags": []
   },
   "outputs": [
    {
     "data": {
      "text/plain": [
       "<Axes: title={'center': 'Metric during training'}, xlabel='Iterations', ylabel='l1'>"
      ]
     },
     "execution_count": 21,
     "metadata": {},
     "output_type": "execute_result"
    },
    {
     "data": {
      "image/png": "[encoded data removed]",
      "text/plain": [
       "<Figure size 640x480 with 1 Axes>"
      ]
     },
     "metadata": {},
     "output_type": "display_data"
    }
   ],
   "source": [
    "lgb.plot_metric(model,\n",
    "                metric='l1')"
   ]
  },
  {
   "cell_type": "code",
   "execution_count": 22,
   "id": "b5a4e99e",
   "metadata": {
    "execution": {
     "iopub.execute_input": "2024-08-09T14:29:57.429162Z",
     "iopub.status.busy": "2024-08-09T14:29:57.428754Z",
     "iopub.status.idle": "2024-08-09T14:29:57.539928Z",
     "shell.execute_reply": "2024-08-09T14:29:57.538676Z"
    },
    "papermill": {
     "duration": 0.130293,
     "end_time": "2024-08-09T14:29:57.542832",
     "exception": false,
     "start_time": "2024-08-09T14:29:57.412539",
     "status": "completed"
    },
    "tags": []
   },
   "outputs": [
    {
     "data": {
      "text/html": [
       "<style>#sk-container-id-3 {color: black;background-color: white;}#sk-container-id-3 pre{padding: 0;}#sk-container-id-3 div.sk-toggleable {background-color: white;}#sk-container-id-3 label.sk-toggleable__label {cursor: pointer;display: block;width: 100%;margin-bottom: 0;padding: 0.3em;box-sizing: border-box;text-align: center;}#sk-container-id-3 label.sk-toggleable__label-arrow:before {content: \"▸\";float: left;margin-right: 0.25em;color: #696969;}#sk-container-id-3 label.sk-toggleable__label-arrow:hover:before {color: black;}#sk-container-id-3 div.sk-estimator:hover label.sk-toggleable__label-arrow:before {color: black;}#sk-container-id-3 div.sk-toggleable__content {max-height: 0;max-width: 0;overflow: hidden;text-align: left;background-color: #f0f8ff;}#sk-container-id-3 div.sk-toggleable__content pre {margin: 0.2em;color: black;border-radius: 0.25em;background-color: #f0f8ff;}#sk-container-id-3 input.sk-toggleable__control:checked~div.sk-toggleable__content {max-height: 200px;max-width: 100%;overflow: auto;}#sk-container-id-3 input.sk-toggleable__control:checked~label.sk-toggleable__label-arrow:before {content: \"▾\";}#sk-container-id-3 div.sk-estimator input.sk-toggleable__control:checked~label.sk-toggleable__label {background-color: #d4ebff;}#sk-container-id-3 div.sk-label input.sk-toggleable__control:checked~label.sk-toggleable__label {background-color: #d4ebff;}#sk-container-id-3 input.sk-hidden--visually {border: 0;clip: rect(1px 1px 1px 1px);clip: rect(1px, 1px, 1px, 1px);height: 1px;margin: -1px;overflow: hidden;padding: 0;position: absolute;width: 1px;}#sk-container-id-3 div.sk-estimator {font-family: monospace;background-color: #f0f8ff;border: 1px dotted black;border-radius: 0.25em;box-sizing: border-box;margin-bottom: 0.5em;}#sk-container-id-3 div.sk-estimator:hover {background-color: #d4ebff;}#sk-container-id-3 div.sk-parallel-item::after {content: \"\";width: 100%;border-bottom: 1px solid gray;flex-grow: 1;}#sk-container-id-3 div.sk-label:hover label.sk-toggleable__label {background-color: #d4ebff;}#sk-container-id-3 div.sk-serial::before {content: \"\";position: absolute;border-left: 1px solid gray;box-sizing: border-box;top: 0;bottom: 0;left: 50%;z-index: 0;}#sk-container-id-3 div.sk-serial {display: flex;flex-direction: column;align-items: center;background-color: white;padding-right: 0.2em;padding-left: 0.2em;position: relative;}#sk-container-id-3 div.sk-item {position: relative;z-index: 1;}#sk-container-id-3 div.sk-parallel {display: flex;align-items: stretch;justify-content: center;background-color: white;position: relative;}#sk-container-id-3 div.sk-item::before, #sk-container-id-3 div.sk-parallel-item::before {content: \"\";position: absolute;border-left: 1px solid gray;box-sizing: border-box;top: 0;bottom: 0;left: 50%;z-index: -1;}#sk-container-id-3 div.sk-parallel-item {display: flex;flex-direction: column;z-index: 1;position: relative;background-color: white;}#sk-container-id-3 div.sk-parallel-item:first-child::after {align-self: flex-end;width: 50%;}#sk-container-id-3 div.sk-parallel-item:last-child::after {align-self: flex-start;width: 50%;}#sk-container-id-3 div.sk-parallel-item:only-child::after {width: 0;}#sk-container-id-3 div.sk-dashed-wrapped {border: 1px dashed gray;margin: 0 0.4em 0.5em 0.4em;box-sizing: border-box;padding-bottom: 0.4em;background-color: white;}#sk-container-id-3 div.sk-label label {font-family: monospace;font-weight: bold;display: inline-block;line-height: 1.2em;}#sk-container-id-3 div.sk-label-container {text-align: center;}#sk-container-id-3 div.sk-container {/* jupyter's `normalize.less` sets `[hidden] { display: none; }` but bootstrap.min.css set `[hidden] { display: none !important; }` so we also need the `!important` here to be able to override the default hidden behavior on the sphinx rendered scikit-learn.org. See: https://github.com/scikit-learn/scikit-learn/issues/21755 */display: inline-block !important;position: relative;}#sk-container-id-3 div.sk-text-repr-fallback {display: none;}</style><div id=\"sk-container-id-3\" class=\"sk-top-container\"><div class=\"sk-text-repr-fallback\"><pre>Pipeline(steps=[(&#x27;prep&#x27;,\n",
       "                 ColumnTransformer(transformers=[(&#x27;num&#x27;,\n",
       "                                                  Pipeline(steps=[(&#x27;imputer&#x27;,\n",
       "                                                                   SimpleImputer(strategy=&#x27;median&#x27;))]),\n",
       "                                                  Index([&#x27;review_aroma&#x27;, &#x27;review_appearance&#x27;, &#x27;review_palate&#x27;, &#x27;review_taste&#x27;,\n",
       "       &#x27;beer_abv&#x27;],\n",
       "      dtype=&#x27;object&#x27;)),\n",
       "                                                 (&#x27;cat&#x27;,\n",
       "                                                  Pipeline(steps=[(&#x27;imputer&#x27;,\n",
       "                                                                   SimpleImputer(strategy=&#x27;most_frequent&#x27;)),\n",
       "                                                                  (&#x27;encoder&#x27;,\n",
       "                                                                   OrdinalEncoder(handle_unknown=&#x27;use_e...\n",
       "                               min_data_in_leaf=124, min_data_per_group=71,\n",
       "                               min_gain_to_split=0.03241647793618352,\n",
       "                               min_sum_hessian_in_leaf=7.199265950431342,\n",
       "                               n_estimator=1000, n_estimators=91,\n",
       "                               num_leaves=436, other_rate=0.4662439412675177,\n",
       "                               path_smooth=0.43557172372914066,\n",
       "                               scale_pos_weight=1.886846809614612,\n",
       "                               top_rate=0.38740874375559464,\n",
       "                               tweedie_variance_power=1.8911146456348016,\n",
       "                               verbose=-1))])</pre><b>In a Jupyter environment, please rerun this cell to show the HTML representation or trust the notebook. <br />On GitHub, the HTML representation is unable to render, please try loading this page with nbviewer.org.</b></div><div class=\"sk-container\" hidden><div class=\"sk-item sk-dashed-wrapped\"><div class=\"sk-label-container\"><div class=\"sk-label sk-toggleable\"><input class=\"sk-toggleable__control sk-hidden--visually\" id=\"sk-estimator-id-8\" type=\"checkbox\" ><label for=\"sk-estimator-id-8\" class=\"sk-toggleable__label sk-toggleable__label-arrow\">Pipeline</label><div class=\"sk-toggleable__content\"><pre>Pipeline(steps=[(&#x27;prep&#x27;,\n",
       "                 ColumnTransformer(transformers=[(&#x27;num&#x27;,\n",
       "                                                  Pipeline(steps=[(&#x27;imputer&#x27;,\n",
       "                                                                   SimpleImputer(strategy=&#x27;median&#x27;))]),\n",
       "                                                  Index([&#x27;review_aroma&#x27;, &#x27;review_appearance&#x27;, &#x27;review_palate&#x27;, &#x27;review_taste&#x27;,\n",
       "       &#x27;beer_abv&#x27;],\n",
       "      dtype=&#x27;object&#x27;)),\n",
       "                                                 (&#x27;cat&#x27;,\n",
       "                                                  Pipeline(steps=[(&#x27;imputer&#x27;,\n",
       "                                                                   SimpleImputer(strategy=&#x27;most_frequent&#x27;)),\n",
       "                                                                  (&#x27;encoder&#x27;,\n",
       "                                                                   OrdinalEncoder(handle_unknown=&#x27;use_e...\n",
       "                               min_data_in_leaf=124, min_data_per_group=71,\n",
       "                               min_gain_to_split=0.03241647793618352,\n",
       "                               min_sum_hessian_in_leaf=7.199265950431342,\n",
       "                               n_estimator=1000, n_estimators=91,\n",
       "                               num_leaves=436, other_rate=0.4662439412675177,\n",
       "                               path_smooth=0.43557172372914066,\n",
       "                               scale_pos_weight=1.886846809614612,\n",
       "                               top_rate=0.38740874375559464,\n",
       "                               tweedie_variance_power=1.8911146456348016,\n",
       "                               verbose=-1))])</pre></div></div></div><div class=\"sk-serial\"><div class=\"sk-item sk-dashed-wrapped\"><div class=\"sk-label-container\"><div class=\"sk-label sk-toggleable\"><input class=\"sk-toggleable__control sk-hidden--visually\" id=\"sk-estimator-id-9\" type=\"checkbox\" ><label for=\"sk-estimator-id-9\" class=\"sk-toggleable__label sk-toggleable__label-arrow\">prep: ColumnTransformer</label><div class=\"sk-toggleable__content\"><pre>ColumnTransformer(transformers=[(&#x27;num&#x27;,\n",
       "                                 Pipeline(steps=[(&#x27;imputer&#x27;,\n",
       "                                                  SimpleImputer(strategy=&#x27;median&#x27;))]),\n",
       "                                 Index([&#x27;review_aroma&#x27;, &#x27;review_appearance&#x27;, &#x27;review_palate&#x27;, &#x27;review_taste&#x27;,\n",
       "       &#x27;beer_abv&#x27;],\n",
       "      dtype=&#x27;object&#x27;)),\n",
       "                                (&#x27;cat&#x27;,\n",
       "                                 Pipeline(steps=[(&#x27;imputer&#x27;,\n",
       "                                                  SimpleImputer(strategy=&#x27;most_frequent&#x27;)),\n",
       "                                                 (&#x27;encoder&#x27;,\n",
       "                                                  OrdinalEncoder(handle_unknown=&#x27;use_encoded_value&#x27;,\n",
       "                                                                 unknown_value=-1))]),\n",
       "                                 Index([&#x27;brewery_name&#x27;, &#x27;beer_style&#x27;, &#x27;beer_name&#x27;], dtype=&#x27;object&#x27;))])</pre></div></div></div><div class=\"sk-parallel\"><div class=\"sk-parallel-item\"><div class=\"sk-item\"><div class=\"sk-label-container\"><div class=\"sk-label sk-toggleable\"><input class=\"sk-toggleable__control sk-hidden--visually\" id=\"sk-estimator-id-10\" type=\"checkbox\" ><label for=\"sk-estimator-id-10\" class=\"sk-toggleable__label sk-toggleable__label-arrow\">num</label><div class=\"sk-toggleable__content\"><pre>Index([&#x27;review_aroma&#x27;, &#x27;review_appearance&#x27;, &#x27;review_palate&#x27;, &#x27;review_taste&#x27;,\n",
       "       &#x27;beer_abv&#x27;],\n",
       "      dtype=&#x27;object&#x27;)</pre></div></div></div><div class=\"sk-serial\"><div class=\"sk-item\"><div class=\"sk-serial\"><div class=\"sk-item\"><div class=\"sk-estimator sk-toggleable\"><input class=\"sk-toggleable__control sk-hidden--visually\" id=\"sk-estimator-id-11\" type=\"checkbox\" ><label for=\"sk-estimator-id-11\" class=\"sk-toggleable__label sk-toggleable__label-arrow\">SimpleImputer</label><div class=\"sk-toggleable__content\"><pre>SimpleImputer(strategy=&#x27;median&#x27;)</pre></div></div></div></div></div></div></div></div><div class=\"sk-parallel-item\"><div class=\"sk-item\"><div class=\"sk-label-container\"><div class=\"sk-label sk-toggleable\"><input class=\"sk-toggleable__control sk-hidden--visually\" id=\"sk-estimator-id-12\" type=\"checkbox\" ><label for=\"sk-estimator-id-12\" class=\"sk-toggleable__label sk-toggleable__label-arrow\">cat</label><div class=\"sk-toggleable__content\"><pre>Index([&#x27;brewery_name&#x27;, &#x27;beer_style&#x27;, &#x27;beer_name&#x27;], dtype=&#x27;object&#x27;)</pre></div></div></div><div class=\"sk-serial\"><div class=\"sk-item\"><div class=\"sk-serial\"><div class=\"sk-item\"><div class=\"sk-estimator sk-toggleable\"><input class=\"sk-toggleable__control sk-hidden--visually\" id=\"sk-estimator-id-13\" type=\"checkbox\" ><label for=\"sk-estimator-id-13\" class=\"sk-toggleable__label sk-toggleable__label-arrow\">SimpleImputer</label><div class=\"sk-toggleable__content\"><pre>SimpleImputer(strategy=&#x27;most_frequent&#x27;)</pre></div></div></div><div class=\"sk-item\"><div class=\"sk-estimator sk-toggleable\"><input class=\"sk-toggleable__control sk-hidden--visually\" id=\"sk-estimator-id-14\" type=\"checkbox\" ><label for=\"sk-estimator-id-14\" class=\"sk-toggleable__label sk-toggleable__label-arrow\">OrdinalEncoder</label><div class=\"sk-toggleable__content\"><pre>OrdinalEncoder(handle_unknown=&#x27;use_encoded_value&#x27;, unknown_value=-1)</pre></div></div></div></div></div></div></div></div></div></div><div class=\"sk-item\"><div class=\"sk-estimator sk-toggleable\"><input class=\"sk-toggleable__control sk-hidden--visually\" id=\"sk-estimator-id-15\" type=\"checkbox\" ><label for=\"sk-estimator-id-15\" class=\"sk-toggleable__label sk-toggleable__label-arrow\">LGBMRegressor</label><div class=\"sk-toggleable__content\"><pre>LGBMRegressor(boosting_type=&#x27;goss&#x27;, cat_l2=9.94035092446645,\n",
       "              cat_smooth=1.4608920337755862, early_stopping_round=92,\n",
       "              feature_fraction=0.9283965812958562,\n",
       "              feature_fraction_bynode=0.5848546662622738, force_col_wise=False,\n",
       "              is_unbalance=True, lambda_l1=0.0018507030662794914,\n",
       "              lambda_l2=6.156325802144296e-07,\n",
       "              learning_rate=0.12089533133433601, max_bin=96,\n",
       "              max_cat_th...\n",
       "              max_depth=50, min_data_in_leaf=124, min_data_per_group=71,\n",
       "              min_gain_to_split=0.03241647793618352,\n",
       "              min_sum_hessian_in_leaf=7.199265950431342, n_estimator=1000,\n",
       "              n_estimators=91, num_leaves=436, other_rate=0.4662439412675177,\n",
       "              path_smooth=0.43557172372914066,\n",
       "              scale_pos_weight=1.886846809614612, top_rate=0.38740874375559464,\n",
       "              tweedie_variance_power=1.8911146456348016, verbose=-1)</pre></div></div></div></div></div></div></div>"
      ],
      "text/plain": [
       "Pipeline(steps=[('prep',\n",
       "                 ColumnTransformer(transformers=[('num',\n",
       "                                                  Pipeline(steps=[('imputer',\n",
       "                                                                   SimpleImputer(strategy='median'))]),\n",
       "                                                  Index(['review_aroma', 'review_appearance', 'review_palate', 'review_taste',\n",
       "       'beer_abv'],\n",
       "      dtype='object')),\n",
       "                                                 ('cat',\n",
       "                                                  Pipeline(steps=[('imputer',\n",
       "                                                                   SimpleImputer(strategy='most_frequent')),\n",
       "                                                                  ('encoder',\n",
       "                                                                   OrdinalEncoder(handle_unknown='use_e...\n",
       "                               min_data_in_leaf=124, min_data_per_group=71,\n",
       "                               min_gain_to_split=0.03241647793618352,\n",
       "                               min_sum_hessian_in_leaf=7.199265950431342,\n",
       "                               n_estimator=1000, n_estimators=91,\n",
       "                               num_leaves=436, other_rate=0.4662439412675177,\n",
       "                               path_smooth=0.43557172372914066,\n",
       "                               scale_pos_weight=1.886846809614612,\n",
       "                               top_rate=0.38740874375559464,\n",
       "                               tweedie_variance_power=1.8911146456348016,\n",
       "                               verbose=-1))])"
      ]
     },
     "execution_count": 22,
     "metadata": {},
     "output_type": "execute_result"
    }
   ],
   "source": [
    "model = Pipeline(\n",
    "    [(\"prep\", preprocessor),\n",
    "     (\"model\", model)\n",
    "     ]\n",
    ")\n",
    "\n",
    "model"
   ]
  },
  {
   "cell_type": "code",
   "execution_count": 23,
   "id": "0e810122",
   "metadata": {
    "execution": {
     "iopub.execute_input": "2024-08-09T14:29:57.575208Z",
     "iopub.status.busy": "2024-08-09T14:29:57.574807Z",
     "iopub.status.idle": "2024-08-09T14:29:57.789071Z",
     "shell.execute_reply": "2024-08-09T14:29:57.787887Z"
    },
    "papermill": {
     "duration": 0.233948,
     "end_time": "2024-08-09T14:29:57.791905",
     "exception": false,
     "start_time": "2024-08-09T14:29:57.557957",
     "status": "completed"
    },
    "tags": []
   },
   "outputs": [
    {
     "data": {
      "text/plain": [
       "['Beer_reviews.pkl']"
      ]
     },
     "execution_count": 23,
     "metadata": {},
     "output_type": "execute_result"
    }
   ],
   "source": [
    "joblib.dump(model, 'Beer_reviews.pkl')"
   ]
  },
  {
   "cell_type": "code",
   "execution_count": 24,
   "id": "510e9142",
   "metadata": {
    "execution": {
     "iopub.execute_input": "2024-08-09T14:29:57.826486Z",
     "iopub.status.busy": "2024-08-09T14:29:57.826033Z",
     "iopub.status.idle": "2024-08-09T14:29:57.834327Z",
     "shell.execute_reply": "2024-08-09T14:29:57.833158Z"
    },
    "papermill": {
     "duration": 0.027903,
     "end_time": "2024-08-09T14:29:57.836685",
     "exception": false,
     "start_time": "2024-08-09T14:29:57.808782",
     "status": "completed"
    },
    "tags": []
   },
   "outputs": [
    {
     "data": {
      "text/plain": [
       "'/kaggle/working/Beer_reviews.pkl'"
      ]
     },
     "execution_count": 24,
     "metadata": {},
     "output_type": "execute_result"
    }
   ],
   "source": [
    "import shutil\n",
    "\n",
    "shutil.move('Beer_reviews.pkl', '/kaggle/working/Beer_reviews.pkl')"
   ]
  },
  {
   "cell_type": "code",
   "execution_count": 25,
   "id": "e44bfcb2",
   "metadata": {
    "execution": {
     "iopub.execute_input": "2024-08-09T14:29:57.946373Z",
     "iopub.status.busy": "2024-08-09T14:29:57.945053Z",
     "iopub.status.idle": "2024-08-09T14:29:58.112934Z",
     "shell.execute_reply": "2024-08-09T14:29:58.111429Z"
    },
    "papermill": {
     "duration": 0.18928,
     "end_time": "2024-08-09T14:29:58.117341",
     "exception": false,
     "start_time": "2024-08-09T14:29:57.928061",
     "status": "completed"
    },
    "tags": []
   },
   "outputs": [
    {
     "data": {
      "text/html": [
       "<style>#sk-container-id-4 {color: black;background-color: white;}#sk-container-id-4 pre{padding: 0;}#sk-container-id-4 div.sk-toggleable {background-color: white;}#sk-container-id-4 label.sk-toggleable__label {cursor: pointer;display: block;width: 100%;margin-bottom: 0;padding: 0.3em;box-sizing: border-box;text-align: center;}#sk-container-id-4 label.sk-toggleable__label-arrow:before {content: \"▸\";float: left;margin-right: 0.25em;color: #696969;}#sk-container-id-4 label.sk-toggleable__label-arrow:hover:before {color: black;}#sk-container-id-4 div.sk-estimator:hover label.sk-toggleable__label-arrow:before {color: black;}#sk-container-id-4 div.sk-toggleable__content {max-height: 0;max-width: 0;overflow: hidden;text-align: left;background-color: #f0f8ff;}#sk-container-id-4 div.sk-toggleable__content pre {margin: 0.2em;color: black;border-radius: 0.25em;background-color: #f0f8ff;}#sk-container-id-4 input.sk-toggleable__control:checked~div.sk-toggleable__content {max-height: 200px;max-width: 100%;overflow: auto;}#sk-container-id-4 input.sk-toggleable__control:checked~label.sk-toggleable__label-arrow:before {content: \"▾\";}#sk-container-id-4 div.sk-estimator input.sk-toggleable__control:checked~label.sk-toggleable__label {background-color: #d4ebff;}#sk-container-id-4 div.sk-label input.sk-toggleable__control:checked~label.sk-toggleable__label {background-color: #d4ebff;}#sk-container-id-4 input.sk-hidden--visually {border: 0;clip: rect(1px 1px 1px 1px);clip: rect(1px, 1px, 1px, 1px);height: 1px;margin: -1px;overflow: hidden;padding: 0;position: absolute;width: 1px;}#sk-container-id-4 div.sk-estimator {font-family: monospace;background-color: #f0f8ff;border: 1px dotted black;border-radius: 0.25em;box-sizing: border-box;margin-bottom: 0.5em;}#sk-container-id-4 div.sk-estimator:hover {background-color: #d4ebff;}#sk-container-id-4 div.sk-parallel-item::after {content: \"\";width: 100%;border-bottom: 1px solid gray;flex-grow: 1;}#sk-container-id-4 div.sk-label:hover label.sk-toggleable__label {background-color: #d4ebff;}#sk-container-id-4 div.sk-serial::before {content: \"\";position: absolute;border-left: 1px solid gray;box-sizing: border-box;top: 0;bottom: 0;left: 50%;z-index: 0;}#sk-container-id-4 div.sk-serial {display: flex;flex-direction: column;align-items: center;background-color: white;padding-right: 0.2em;padding-left: 0.2em;position: relative;}#sk-container-id-4 div.sk-item {position: relative;z-index: 1;}#sk-container-id-4 div.sk-parallel {display: flex;align-items: stretch;justify-content: center;background-color: white;position: relative;}#sk-container-id-4 div.sk-item::before, #sk-container-id-4 div.sk-parallel-item::before {content: \"\";position: absolute;border-left: 1px solid gray;box-sizing: border-box;top: 0;bottom: 0;left: 50%;z-index: -1;}#sk-container-id-4 div.sk-parallel-item {display: flex;flex-direction: column;z-index: 1;position: relative;background-color: white;}#sk-container-id-4 div.sk-parallel-item:first-child::after {align-self: flex-end;width: 50%;}#sk-container-id-4 div.sk-parallel-item:last-child::after {align-self: flex-start;width: 50%;}#sk-container-id-4 div.sk-parallel-item:only-child::after {width: 0;}#sk-container-id-4 div.sk-dashed-wrapped {border: 1px dashed gray;margin: 0 0.4em 0.5em 0.4em;box-sizing: border-box;padding-bottom: 0.4em;background-color: white;}#sk-container-id-4 div.sk-label label {font-family: monospace;font-weight: bold;display: inline-block;line-height: 1.2em;}#sk-container-id-4 div.sk-label-container {text-align: center;}#sk-container-id-4 div.sk-container {/* jupyter's `normalize.less` sets `[hidden] { display: none; }` but bootstrap.min.css set `[hidden] { display: none !important; }` so we also need the `!important` here to be able to override the default hidden behavior on the sphinx rendered scikit-learn.org. See: https://github.com/scikit-learn/scikit-learn/issues/21755 */display: inline-block !important;position: relative;}#sk-container-id-4 div.sk-text-repr-fallback {display: none;}</style><div id=\"sk-container-id-4\" class=\"sk-top-container\"><div class=\"sk-text-repr-fallback\"><pre>Pipeline(steps=[(&#x27;prep&#x27;,\n",
       "                 ColumnTransformer(transformers=[(&#x27;num&#x27;,\n",
       "                                                  Pipeline(steps=[(&#x27;imputer&#x27;,\n",
       "                                                                   SimpleImputer(strategy=&#x27;median&#x27;))]),\n",
       "                                                  Index([&#x27;review_aroma&#x27;, &#x27;review_appearance&#x27;, &#x27;review_palate&#x27;, &#x27;review_taste&#x27;,\n",
       "       &#x27;beer_abv&#x27;],\n",
       "      dtype=&#x27;object&#x27;)),\n",
       "                                                 (&#x27;cat&#x27;,\n",
       "                                                  Pipeline(steps=[(&#x27;imputer&#x27;,\n",
       "                                                                   SimpleImputer(strategy=&#x27;most_frequent&#x27;)),\n",
       "                                                                  (&#x27;encoder&#x27;,\n",
       "                                                                   OrdinalEncoder(handle_unknown=&#x27;use_e...\n",
       "                               min_data_in_leaf=124, min_data_per_group=71,\n",
       "                               min_gain_to_split=0.03241647793618352,\n",
       "                               min_sum_hessian_in_leaf=7.199265950431342,\n",
       "                               n_estimator=1000, n_estimators=91,\n",
       "                               num_leaves=436, other_rate=0.4662439412675177,\n",
       "                               path_smooth=0.43557172372914066,\n",
       "                               scale_pos_weight=1.886846809614612,\n",
       "                               top_rate=0.38740874375559464,\n",
       "                               tweedie_variance_power=1.8911146456348016,\n",
       "                               verbose=-1))])</pre><b>In a Jupyter environment, please rerun this cell to show the HTML representation or trust the notebook. <br />On GitHub, the HTML representation is unable to render, please try loading this page with nbviewer.org.</b></div><div class=\"sk-container\" hidden><div class=\"sk-item sk-dashed-wrapped\"><div class=\"sk-label-container\"><div class=\"sk-label sk-toggleable\"><input class=\"sk-toggleable__control sk-hidden--visually\" id=\"sk-estimator-id-16\" type=\"checkbox\" ><label for=\"sk-estimator-id-16\" class=\"sk-toggleable__label sk-toggleable__label-arrow\">Pipeline</label><div class=\"sk-toggleable__content\"><pre>Pipeline(steps=[(&#x27;prep&#x27;,\n",
       "                 ColumnTransformer(transformers=[(&#x27;num&#x27;,\n",
       "                                                  Pipeline(steps=[(&#x27;imputer&#x27;,\n",
       "                                                                   SimpleImputer(strategy=&#x27;median&#x27;))]),\n",
       "                                                  Index([&#x27;review_aroma&#x27;, &#x27;review_appearance&#x27;, &#x27;review_palate&#x27;, &#x27;review_taste&#x27;,\n",
       "       &#x27;beer_abv&#x27;],\n",
       "      dtype=&#x27;object&#x27;)),\n",
       "                                                 (&#x27;cat&#x27;,\n",
       "                                                  Pipeline(steps=[(&#x27;imputer&#x27;,\n",
       "                                                                   SimpleImputer(strategy=&#x27;most_frequent&#x27;)),\n",
       "                                                                  (&#x27;encoder&#x27;,\n",
       "                                                                   OrdinalEncoder(handle_unknown=&#x27;use_e...\n",
       "                               min_data_in_leaf=124, min_data_per_group=71,\n",
       "                               min_gain_to_split=0.03241647793618352,\n",
       "                               min_sum_hessian_in_leaf=7.199265950431342,\n",
       "                               n_estimator=1000, n_estimators=91,\n",
       "                               num_leaves=436, other_rate=0.4662439412675177,\n",
       "                               path_smooth=0.43557172372914066,\n",
       "                               scale_pos_weight=1.886846809614612,\n",
       "                               top_rate=0.38740874375559464,\n",
       "                               tweedie_variance_power=1.8911146456348016,\n",
       "                               verbose=-1))])</pre></div></div></div><div class=\"sk-serial\"><div class=\"sk-item sk-dashed-wrapped\"><div class=\"sk-label-container\"><div class=\"sk-label sk-toggleable\"><input class=\"sk-toggleable__control sk-hidden--visually\" id=\"sk-estimator-id-17\" type=\"checkbox\" ><label for=\"sk-estimator-id-17\" class=\"sk-toggleable__label sk-toggleable__label-arrow\">prep: ColumnTransformer</label><div class=\"sk-toggleable__content\"><pre>ColumnTransformer(transformers=[(&#x27;num&#x27;,\n",
       "                                 Pipeline(steps=[(&#x27;imputer&#x27;,\n",
       "                                                  SimpleImputer(strategy=&#x27;median&#x27;))]),\n",
       "                                 Index([&#x27;review_aroma&#x27;, &#x27;review_appearance&#x27;, &#x27;review_palate&#x27;, &#x27;review_taste&#x27;,\n",
       "       &#x27;beer_abv&#x27;],\n",
       "      dtype=&#x27;object&#x27;)),\n",
       "                                (&#x27;cat&#x27;,\n",
       "                                 Pipeline(steps=[(&#x27;imputer&#x27;,\n",
       "                                                  SimpleImputer(strategy=&#x27;most_frequent&#x27;)),\n",
       "                                                 (&#x27;encoder&#x27;,\n",
       "                                                  OrdinalEncoder(handle_unknown=&#x27;use_encoded_value&#x27;,\n",
       "                                                                 unknown_value=-1))]),\n",
       "                                 Index([&#x27;brewery_name&#x27;, &#x27;beer_style&#x27;, &#x27;beer_name&#x27;], dtype=&#x27;object&#x27;))])</pre></div></div></div><div class=\"sk-parallel\"><div class=\"sk-parallel-item\"><div class=\"sk-item\"><div class=\"sk-label-container\"><div class=\"sk-label sk-toggleable\"><input class=\"sk-toggleable__control sk-hidden--visually\" id=\"sk-estimator-id-18\" type=\"checkbox\" ><label for=\"sk-estimator-id-18\" class=\"sk-toggleable__label sk-toggleable__label-arrow\">num</label><div class=\"sk-toggleable__content\"><pre>Index([&#x27;review_aroma&#x27;, &#x27;review_appearance&#x27;, &#x27;review_palate&#x27;, &#x27;review_taste&#x27;,\n",
       "       &#x27;beer_abv&#x27;],\n",
       "      dtype=&#x27;object&#x27;)</pre></div></div></div><div class=\"sk-serial\"><div class=\"sk-item\"><div class=\"sk-serial\"><div class=\"sk-item\"><div class=\"sk-estimator sk-toggleable\"><input class=\"sk-toggleable__control sk-hidden--visually\" id=\"sk-estimator-id-19\" type=\"checkbox\" ><label for=\"sk-estimator-id-19\" class=\"sk-toggleable__label sk-toggleable__label-arrow\">SimpleImputer</label><div class=\"sk-toggleable__content\"><pre>SimpleImputer(strategy=&#x27;median&#x27;)</pre></div></div></div></div></div></div></div></div><div class=\"sk-parallel-item\"><div class=\"sk-item\"><div class=\"sk-label-container\"><div class=\"sk-label sk-toggleable\"><input class=\"sk-toggleable__control sk-hidden--visually\" id=\"sk-estimator-id-20\" type=\"checkbox\" ><label for=\"sk-estimator-id-20\" class=\"sk-toggleable__label sk-toggleable__label-arrow\">cat</label><div class=\"sk-toggleable__content\"><pre>Index([&#x27;brewery_name&#x27;, &#x27;beer_style&#x27;, &#x27;beer_name&#x27;], dtype=&#x27;object&#x27;)</pre></div></div></div><div class=\"sk-serial\"><div class=\"sk-item\"><div class=\"sk-serial\"><div class=\"sk-item\"><div class=\"sk-estimator sk-toggleable\"><input class=\"sk-toggleable__control sk-hidden--visually\" id=\"sk-estimator-id-21\" type=\"checkbox\" ><label for=\"sk-estimator-id-21\" class=\"sk-toggleable__label sk-toggleable__label-arrow\">SimpleImputer</label><div class=\"sk-toggleable__content\"><pre>SimpleImputer(strategy=&#x27;most_frequent&#x27;)</pre></div></div></div><div class=\"sk-item\"><div class=\"sk-estimator sk-toggleable\"><input class=\"sk-toggleable__control sk-hidden--visually\" id=\"sk-estimator-id-22\" type=\"checkbox\" ><label for=\"sk-estimator-id-22\" class=\"sk-toggleable__label sk-toggleable__label-arrow\">OrdinalEncoder</label><div class=\"sk-toggleable__content\"><pre>OrdinalEncoder(handle_unknown=&#x27;use_encoded_value&#x27;, unknown_value=-1)</pre></div></div></div></div></div></div></div></div></div></div><div class=\"sk-item\"><div class=\"sk-estimator sk-toggleable\"><input class=\"sk-toggleable__control sk-hidden--visually\" id=\"sk-estimator-id-23\" type=\"checkbox\" ><label for=\"sk-estimator-id-23\" class=\"sk-toggleable__label sk-toggleable__label-arrow\">LGBMRegressor</label><div class=\"sk-toggleable__content\"><pre>LGBMRegressor(boosting_type=&#x27;goss&#x27;, cat_l2=9.94035092446645,\n",
       "              cat_smooth=1.4608920337755862, early_stopping_round=92,\n",
       "              feature_fraction=0.9283965812958562,\n",
       "              feature_fraction_bynode=0.5848546662622738, force_col_wise=False,\n",
       "              is_unbalance=True, lambda_l1=0.0018507030662794914,\n",
       "              lambda_l2=6.156325802144296e-07,\n",
       "              learning_rate=0.12089533133433601, max_bin=96,\n",
       "              max_cat_th...\n",
       "              max_depth=50, min_data_in_leaf=124, min_data_per_group=71,\n",
       "              min_gain_to_split=0.03241647793618352,\n",
       "              min_sum_hessian_in_leaf=7.199265950431342, n_estimator=1000,\n",
       "              n_estimators=91, num_leaves=436, other_rate=0.4662439412675177,\n",
       "              path_smooth=0.43557172372914066,\n",
       "              scale_pos_weight=1.886846809614612, top_rate=0.38740874375559464,\n",
       "              tweedie_variance_power=1.8911146456348016, verbose=-1)</pre></div></div></div></div></div></div></div>"
      ],
      "text/plain": [
       "Pipeline(steps=[('prep',\n",
       "                 ColumnTransformer(transformers=[('num',\n",
       "                                                  Pipeline(steps=[('imputer',\n",
       "                                                                   SimpleImputer(strategy='median'))]),\n",
       "                                                  Index(['review_aroma', 'review_appearance', 'review_palate', 'review_taste',\n",
       "       'beer_abv'],\n",
       "      dtype='object')),\n",
       "                                                 ('cat',\n",
       "                                                  Pipeline(steps=[('imputer',\n",
       "                                                                   SimpleImputer(strategy='most_frequent')),\n",
       "                                                                  ('encoder',\n",
       "                                                                   OrdinalEncoder(handle_unknown='use_e...\n",
       "                               min_data_in_leaf=124, min_data_per_group=71,\n",
       "                               min_gain_to_split=0.03241647793618352,\n",
       "                               min_sum_hessian_in_leaf=7.199265950431342,\n",
       "                               n_estimator=1000, n_estimators=91,\n",
       "                               num_leaves=436, other_rate=0.4662439412675177,\n",
       "                               path_smooth=0.43557172372914066,\n",
       "                               scale_pos_weight=1.886846809614612,\n",
       "                               top_rate=0.38740874375559464,\n",
       "                               tweedie_variance_power=1.8911146456348016,\n",
       "                               verbose=-1))])"
      ]
     },
     "execution_count": 25,
     "metadata": {},
     "output_type": "execute_result"
    }
   ],
   "source": [
    "load_model = joblib.load('Beer_reviews.pkl')\n",
    "load_model"
   ]
  },
  {
   "cell_type": "code",
   "execution_count": null,
   "id": "5950de3c",
   "metadata": {
    "papermill": {
     "duration": 0.01611,
     "end_time": "2024-08-09T14:29:58.150917",
     "exception": false,
     "start_time": "2024-08-09T14:29:58.134807",
     "status": "completed"
    },
    "tags": []
   },
   "outputs": [],
   "source": []
  }
 ],
 "metadata": {
  "kaggle": {
   "accelerator": "none",
   "dataSources": [
    {
     "datasetId": 58438,
     "sourceId": 113429,
     "sourceType": "datasetVersion"
    }
   ],
   "dockerImageVersionId": 30746,
   "isGpuEnabled": false,
   "isInternetEnabled": true,
   "language": "python",
   "sourceType": "notebook"
  },
  "kernelspec": {
   "display_name": "Python 3",
   "language": "python",
   "name": "python3"
  },
  "language_info": {
   "codemirror_mode": {
    "name": "ipython",
    "version": 3
   },
   "file_extension": ".py",
   "mimetype": "text/x-python",
   "name": "python",
   "nbconvert_exporter": "python",
   "pygments_lexer": "ipython3",
   "version": "3.10.13"
  },
  "papermill": {
   "default_parameters": {},
   "duration": 2642.908765,
   "end_time": "2024-08-09T14:29:59.398192",
   "environment_variables": {},
   "exception": null,
   "input_path": "__notebook__.ipynb",
   "output_path": "__notebook__.ipynb",
   "parameters": {},
   "start_time": "2024-08-09T13:45:56.489427",
   "version": "2.5.0"
  }
 },
 "nbformat": 4,
 "nbformat_minor": 5
}
