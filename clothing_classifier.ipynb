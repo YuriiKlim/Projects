{
  "nbformat": 4,
  "nbformat_minor": 0,
  "metadata": {
    "colab": {
      "provenance": [],
      "authorship_tag": "ABX9TyPTdwrL8WN+prJY2OmVXA4M",
      "include_colab_link": true
    },
    "kernelspec": {
      "name": "python3",
      "display_name": "Python 3"
    },
    "language_info": {
      "name": "python"
    }
  },
  "cells": [
    {
      "cell_type": "markdown",
      "metadata": {
        "id": "view-in-github",
        "colab_type": "text"
      },
      "source": [
        "<a href=\"https://colab.research.google.com/github/YuriiKlim/Projects/blob/Clothing_Classifier/clothing_classifier.ipynb\" target=\"_parent\"><img src=\"https://colab.research.google.com/assets/colab-badge.svg\" alt=\"Open In Colab\"/></a>"
      ]
    },
    {
      "cell_type": "code",
      "source": [
        "import torch\n",
        "import pandas as pd\n",
        "import os\n",
        "\n",
        "os.environ['CUDA_LAUNCH_BLOCKING'] = '1'\n",
        "os.environ['TORCH_USE_CUDA_DSA'] = '1'\n",
        "\n",
        "\n",
        "device = \"cuda\" if torch.cuda.is_available() else \"cpu\"\n",
        "#torch.set_default_device(device)\n",
        "\n",
        "torch.manual_seed(0)"
      ],
      "metadata": {
        "colab": {
          "base_uri": "https://localhost:8080/"
        },
        "id": "HCP6PEzUr4oq",
        "outputId": "659745bc-346a-4ddd-f14b-3a906c4405bb"
      },
      "execution_count": null,
      "outputs": [
        {
          "output_type": "execute_result",
          "data": {
            "text/plain": [
              "<torch._C.Generator at 0x24425819190>"
            ]
          },
          "metadata": {},
          "execution_count": 1
        }
      ]
    },
    {
      "cell_type": "code",
      "execution_count": null,
      "metadata": {
        "colab": {
          "base_uri": "https://localhost:8080/",
          "height": 423
        },
        "id": "0-3AmuYxrhiu",
        "outputId": "4ffcecd2-cb6f-495c-c00f-1d04ff8502b3"
      },
      "outputs": [
        {
          "output_type": "execute_result",
          "data": {
            "text/plain": [
              "                      sku          Type  Color       Season  Gender  \\\n",
              "0                 М990GL6      Sneakers   Grey  Demi-season    Male   \n",
              "1                М2002RJX      Sneakers   Grey  Demi-season    Male   \n",
              "2                  ЕЕ5364      Sneakers  Black  Demi-season  Female   \n",
              "3       ZXNCSMM1013-BLACK  Track-jacket  Black  Demi-season    Male   \n",
              "4           ZWFB8P557-ORS    Longsleeve  Black  Demi-season  Female   \n",
              "...                   ...           ...    ...          ...     ...   \n",
              "279891           1,10E-42      Sneakers   Grey  Demi-season    Male   \n",
              "279892           1,10E-42      Sneakers  Black  Demi-season    Male   \n",
              "279893           1,10E-53      Sneakers  Black  Demi-season    Male   \n",
              "279894           1,10E-61      Sneakers   Grey  Demi-season    Male   \n",
              "279895          1,10E-129      Sneakers  White  Demi-season    Male   \n",
              "\n",
              "              Brand  \n",
              "0       New Balance  \n",
              "1       New Balance  \n",
              "2            Adidas  \n",
              "3           Castore  \n",
              "4              Nike  \n",
              "...             ...  \n",
              "279891       Brooks  \n",
              "279892       Brooks  \n",
              "279893       Brooks  \n",
              "279894       Brooks  \n",
              "279895       Brooks  \n",
              "\n",
              "[279896 rows x 6 columns]"
            ],
            "text/html": [
              "<div>\n",
              "<style scoped>\n",
              "    .dataframe tbody tr th:only-of-type {\n",
              "        vertical-align: middle;\n",
              "    }\n",
              "\n",
              "    .dataframe tbody tr th {\n",
              "        vertical-align: top;\n",
              "    }\n",
              "\n",
              "    .dataframe thead th {\n",
              "        text-align: right;\n",
              "    }\n",
              "</style>\n",
              "<table border=\"1\" class=\"dataframe\">\n",
              "  <thead>\n",
              "    <tr style=\"text-align: right;\">\n",
              "      <th></th>\n",
              "      <th>sku</th>\n",
              "      <th>Type</th>\n",
              "      <th>Color</th>\n",
              "      <th>Season</th>\n",
              "      <th>Gender</th>\n",
              "      <th>Brand</th>\n",
              "    </tr>\n",
              "  </thead>\n",
              "  <tbody>\n",
              "    <tr>\n",
              "      <th>0</th>\n",
              "      <td>М990GL6</td>\n",
              "      <td>Sneakers</td>\n",
              "      <td>Grey</td>\n",
              "      <td>Demi-season</td>\n",
              "      <td>Male</td>\n",
              "      <td>New Balance</td>\n",
              "    </tr>\n",
              "    <tr>\n",
              "      <th>1</th>\n",
              "      <td>М2002RJX</td>\n",
              "      <td>Sneakers</td>\n",
              "      <td>Grey</td>\n",
              "      <td>Demi-season</td>\n",
              "      <td>Male</td>\n",
              "      <td>New Balance</td>\n",
              "    </tr>\n",
              "    <tr>\n",
              "      <th>2</th>\n",
              "      <td>ЕЕ5364</td>\n",
              "      <td>Sneakers</td>\n",
              "      <td>Black</td>\n",
              "      <td>Demi-season</td>\n",
              "      <td>Female</td>\n",
              "      <td>Adidas</td>\n",
              "    </tr>\n",
              "    <tr>\n",
              "      <th>3</th>\n",
              "      <td>ZXNCSMM1013-BLACK</td>\n",
              "      <td>Track-jacket</td>\n",
              "      <td>Black</td>\n",
              "      <td>Demi-season</td>\n",
              "      <td>Male</td>\n",
              "      <td>Castore</td>\n",
              "    </tr>\n",
              "    <tr>\n",
              "      <th>4</th>\n",
              "      <td>ZWFB8P557-ORS</td>\n",
              "      <td>Longsleeve</td>\n",
              "      <td>Black</td>\n",
              "      <td>Demi-season</td>\n",
              "      <td>Female</td>\n",
              "      <td>Nike</td>\n",
              "    </tr>\n",
              "    <tr>\n",
              "      <th>...</th>\n",
              "      <td>...</td>\n",
              "      <td>...</td>\n",
              "      <td>...</td>\n",
              "      <td>...</td>\n",
              "      <td>...</td>\n",
              "      <td>...</td>\n",
              "    </tr>\n",
              "    <tr>\n",
              "      <th>279891</th>\n",
              "      <td>1,10E-42</td>\n",
              "      <td>Sneakers</td>\n",
              "      <td>Grey</td>\n",
              "      <td>Demi-season</td>\n",
              "      <td>Male</td>\n",
              "      <td>Brooks</td>\n",
              "    </tr>\n",
              "    <tr>\n",
              "      <th>279892</th>\n",
              "      <td>1,10E-42</td>\n",
              "      <td>Sneakers</td>\n",
              "      <td>Black</td>\n",
              "      <td>Demi-season</td>\n",
              "      <td>Male</td>\n",
              "      <td>Brooks</td>\n",
              "    </tr>\n",
              "    <tr>\n",
              "      <th>279893</th>\n",
              "      <td>1,10E-53</td>\n",
              "      <td>Sneakers</td>\n",
              "      <td>Black</td>\n",
              "      <td>Demi-season</td>\n",
              "      <td>Male</td>\n",
              "      <td>Brooks</td>\n",
              "    </tr>\n",
              "    <tr>\n",
              "      <th>279894</th>\n",
              "      <td>1,10E-61</td>\n",
              "      <td>Sneakers</td>\n",
              "      <td>Grey</td>\n",
              "      <td>Demi-season</td>\n",
              "      <td>Male</td>\n",
              "      <td>Brooks</td>\n",
              "    </tr>\n",
              "    <tr>\n",
              "      <th>279895</th>\n",
              "      <td>1,10E-129</td>\n",
              "      <td>Sneakers</td>\n",
              "      <td>White</td>\n",
              "      <td>Demi-season</td>\n",
              "      <td>Male</td>\n",
              "      <td>Brooks</td>\n",
              "    </tr>\n",
              "  </tbody>\n",
              "</table>\n",
              "<p>279896 rows × 6 columns</p>\n",
              "</div>"
            ]
          },
          "metadata": {},
          "execution_count": 31
        }
      ],
      "source": [
        "df = pd.read_csv('C:/Users/klimk/Desktop/Project/products_final.csv')\n",
        "df"
      ]
    },
    {
      "cell_type": "code",
      "source": [
        "df.info()"
      ],
      "metadata": {
        "colab": {
          "base_uri": "https://localhost:8080/"
        },
        "id": "m24ykW-X3EqI",
        "outputId": "d23df4b0-eb8b-4c8d-8e51-b9bb36889d8a"
      },
      "execution_count": null,
      "outputs": [
        {
          "output_type": "stream",
          "name": "stdout",
          "text": [
            "<class 'pandas.core.frame.DataFrame'>\n",
            "RangeIndex: 279896 entries, 0 to 279895\n",
            "Data columns (total 6 columns):\n",
            " #   Column  Non-Null Count   Dtype \n",
            "---  ------  --------------   ----- \n",
            " 0   sku     279896 non-null  object\n",
            " 1   Type    279896 non-null  object\n",
            " 2   Color   279896 non-null  object\n",
            " 3   Season  279896 non-null  object\n",
            " 4   Gender  279896 non-null  object\n",
            " 5   Brand   279894 non-null  object\n",
            "dtypes: object(6)\n",
            "memory usage: 12.8+ MB\n"
          ]
        }
      ]
    },
    {
      "cell_type": "code",
      "source": [
        "type_counts = df['Type'].value_counts()\n",
        "type_counts"
      ],
      "metadata": {
        "colab": {
          "base_uri": "https://localhost:8080/"
        },
        "id": "j7QYp_pQ3NQd",
        "outputId": "22e7747e-4a7c-4626-8bce-b4e4b229cefb"
      },
      "execution_count": null,
      "outputs": [
        {
          "output_type": "execute_result",
          "data": {
            "text/plain": [
              "Type\n",
              "Sneakers             78818\n",
              "T-shirt              41997\n",
              "Pants                21906\n",
              "Shorts               18042\n",
              "Hoodie               15596\n",
              "Jacket               11747\n",
              "Gumshoes              9999\n",
              "Sweatshirt            8616\n",
              "Longsleeve            6823\n",
              "Slippers              5917\n",
              "Sweater               5788\n",
              "Tank-top              5171\n",
              "Boots                 5050\n",
              "Leggings              4184\n",
              "Top                   3914\n",
              "Polo                  3906\n",
              "Football boots        3832\n",
              "Track-jacket          3645\n",
              "Full-zip Hoodie       3581\n",
              "Shirt                 3574\n",
              "Football sneakers     2004\n",
              "Cap                   1987\n",
              "Puffer jacket         1885\n",
              "Sandals               1743\n",
              "Backpack              1637\n",
              "Shoes                 1504\n",
              "Vest                  1464\n",
              "Dress                 1292\n",
              "Hat                    970\n",
              "Skirt                  835\n",
              "Bomber                 821\n",
              "Parka                  746\n",
              "High boot              510\n",
              "Anorak                 392\n",
              "Name: count, dtype: int64"
            ]
          },
          "metadata": {},
          "execution_count": 33
        }
      ]
    },
    {
      "cell_type": "code",
      "source": [
        "type_counts = df['Color'].value_counts()\n",
        "type_counts"
      ],
      "metadata": {
        "colab": {
          "base_uri": "https://localhost:8080/"
        },
        "id": "MxThM_ekZ6DD",
        "outputId": "90543744-97ed-4420-b8cc-c88b16545394"
      },
      "execution_count": null,
      "outputs": [
        {
          "output_type": "execute_result",
          "data": {
            "text/plain": [
              "Color\n",
              "Black                  71932\n",
              "White                  37981\n",
              "Blue                   28215\n",
              "Grey                   23429\n",
              "Beige                  17411\n",
              "                       ...  \n",
              "Purple/Bordo               1\n",
              "Bordo/Olive                1\n",
              "Metallic/Light-Blue        1\n",
              "Peach/Pink                 1\n",
              "Red/Turquoise              1\n",
              "Name: count, Length: 371, dtype: int64"
            ]
          },
          "metadata": {},
          "execution_count": 34
        }
      ]
    },
    {
      "cell_type": "code",
      "source": [],
      "metadata": {
        "id": "KN1xjSNqaF4y"
      },
      "execution_count": null,
      "outputs": []
    }
  ]
}